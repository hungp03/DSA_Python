{
  "cells": [
    {
      "cell_type": "markdown",
      "metadata": {
        "id": "PWVE9P7Ps3__"
      },
      "source": [
        "## Using list"
      ]
    },
    {
      "cell_type": "markdown",
      "source": [
        "Tạo queue bằng list\n",
        "\n",
        "`append` để đẩy phần tử vào cuối"
      ],
      "metadata": {
        "id": "dSz9EVq0s72L"
      }
    },
    {
      "cell_type": "code",
      "execution_count": null,
      "metadata": {
        "id": "0yFBqZgms4AA",
        "outputId": "3a141b30-8d69-4932-c546-90c5bed7cdcb"
      },
      "outputs": [
        {
          "name": "stdout",
          "output_type": "stream",
          "text": [
            "[5, 3, 7, 4, 2]\n"
          ]
        }
      ],
      "source": [
        "# Queue implementation using list\n",
        "\n",
        "# Initializing a queue\n",
        "queue = []\n",
        "\n",
        "# push elements to the end of the list\n",
        "queue.append(5)\n",
        "queue.append(3)\n",
        "queue.append(7)\n",
        "queue.append(4)\n",
        "queue.append(2)\n",
        "\n",
        "# print the queue\n",
        "print(queue)"
      ]
    },
    {
      "cell_type": "markdown",
      "source": [
        "`pop` lấy phần tử đầu theo nguyên tắc FIFO"
      ],
      "metadata": {
        "id": "3plgyN6AtR8a"
      }
    },
    {
      "cell_type": "code",
      "execution_count": null,
      "metadata": {
        "id": "3JhqUsbSs4AB",
        "outputId": "ccddf172-6266-42bd-9a43-269f01562637"
      },
      "outputs": [
        {
          "name": "stdout",
          "output_type": "stream",
          "text": [
            "5\n",
            "3\n",
            "7\n",
            "[4, 2]\n"
          ]
        }
      ],
      "source": [
        "# get elements from the beginning\n",
        "print(queue.pop(0))\n",
        "print(queue.pop(0))\n",
        "print(queue.pop(0))\n",
        "\n",
        "# print the queue\n",
        "print(queue)"
      ]
    },
    {
      "cell_type": "markdown",
      "metadata": {
        "id": "z8-eW3Pis4AB"
      },
      "source": [
        "## Classes"
      ]
    },
    {
      "cell_type": "markdown",
      "source": [
        "Class tạo Queue bằng cách thêm `front` và `rear`"
      ],
      "metadata": {
        "id": "txhMcMFqtbRQ"
      }
    },
    {
      "cell_type": "code",
      "execution_count": null,
      "metadata": {
        "id": "Volsb4wVs4AC"
      },
      "outputs": [],
      "source": [
        "# Class Queue to represent a queue\n",
        "class Queue:\n",
        "    # __init__ function\n",
        "    def __init__(self, capacity):\n",
        "        self.front = self.size = 0\n",
        "        self.rear = capacity -1\n",
        "        self.Q = [None]*capacity\n",
        "        self.capacity = capacity\n",
        "\n",
        "    # Queue is full when size becomes\n",
        "    # equal to the capacity\n",
        "    def isFull(self):\n",
        "        return self.size == self.capacity\n",
        "\n",
        "    # Queue is empty when size is 0\n",
        "    def isEmpty(self):\n",
        "        return self.size == 0\n",
        "\n",
        "    # Function to add an item to the queue.\n",
        "    # It changes rear and size\n",
        "    def enQueue(self, item):\n",
        "        if self.isFull():\n",
        "            print(\"Full\")\n",
        "            return\n",
        "        self.rear = (self.rear + 1) % (self.capacity)\n",
        "        self.Q[self.rear] = item\n",
        "        self.size = self.size + 1\n",
        "        print(\"% s enqueued to queue\"  % str(item))\n",
        "\n",
        "    # Function to remove an item from queue.\n",
        "    # It changes front and size\n",
        "    def deQueue(self):\n",
        "        if self.isEmpty():\n",
        "            print(\"Empty\")\n",
        "            return\n",
        "\n",
        "        print(\"% s dequeued from queue\" % str(self.Q[self.front]))\n",
        "        self.front = (self.front + 1) % (self.capacity)\n",
        "        self.size = self.size -1\n",
        "\n",
        "    # Function to get front of queue\n",
        "    def que_front(self):\n",
        "        if self.isEmpty():\n",
        "            print(\"Queue is empty\")\n",
        "\n",
        "        print(\"Front item is\", self.Q[self.front])\n",
        "\n",
        "    # Function to get rear of queue\n",
        "    def que_rear(self):\n",
        "        if self.isEmpty():\n",
        "            print(\"Queue is empty\")\n",
        "        print(\"Rear item is\",  self.Q[self.rear])"
      ]
    },
    {
      "cell_type": "code",
      "execution_count": null,
      "metadata": {
        "id": "Q0U_M3Ors4AC",
        "outputId": "3c152b0a-2376-4231-d2f2-39c40534c1f7"
      },
      "outputs": [
        {
          "name": "stdout",
          "output_type": "stream",
          "text": [
            "10 enqueued to queue\n",
            "20 enqueued to queue\n",
            "30 enqueued to queue\n",
            "40 enqueued to queue\n",
            "10 dequeued from queue\n",
            "Front item is 20\n",
            "Rear item is 40\n"
          ]
        }
      ],
      "source": [
        "# Driver Code\n",
        "if __name__ == '__main__':\n",
        "    queue = Queue(30)\n",
        "    queue.enQueue(10)\n",
        "    queue.enQueue(20)\n",
        "    queue.enQueue(30)\n",
        "    queue.enQueue(40)\n",
        "    queue.deQueue()\n",
        "    queue.que_front()\n",
        "    queue.que_rear()"
      ]
    }
  ],
  "metadata": {
    "kernelspec": {
      "display_name": "Python 3 (ipykernel)",
      "language": "python",
      "name": "python3"
    },
    "language_info": {
      "codemirror_mode": {
        "name": "ipython",
        "version": 3
      },
      "file_extension": ".py",
      "mimetype": "text/x-python",
      "name": "python",
      "nbconvert_exporter": "python",
      "pygments_lexer": "ipython3",
      "version": "3.9.12"
    },
    "colab": {
      "provenance": []
    }
  },
  "nbformat": 4,
  "nbformat_minor": 0
}