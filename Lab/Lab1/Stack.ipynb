{
  "cells": [
    {
      "cell_type": "markdown",
      "id": "29ed87a1",
      "metadata": {
        "id": "29ed87a1"
      },
      "source": [
        "## Using list"
      ]
    },
    {
      "cell_type": "markdown",
      "source": [
        "Tạo stack bằng list\n",
        "\n",
        "dùng `append` để thêm một phần tử vào cuối danh sách\n",
        "\n",
        "`pop(-1)` lấy phần tử cuối cùng theo nguyên tắc `last in first out`"
      ],
      "metadata": {
        "id": "ylD4aKEvsFKZ"
      },
      "id": "ylD4aKEvsFKZ"
    },
    {
      "cell_type": "code",
      "execution_count": null,
      "id": "becb9038",
      "metadata": {
        "id": "becb9038",
        "outputId": "8c915d9b-367e-404e-c3a3-e773ed961ff9"
      },
      "outputs": [
        {
          "name": "stdout",
          "output_type": "stream",
          "text": [
            "[12, 8, 21]\n",
            "21\n",
            "8\n",
            "12\n"
          ]
        }
      ],
      "source": [
        "# Stack implementation using list\n",
        "\n",
        "# create an empty stack\n",
        "stack = []\n",
        "\n",
        "# push elements to the end of the list\n",
        "stack.append(12)\n",
        "stack.append(8)\n",
        "stack.append(21)\n",
        "print(stack)\n",
        "\n",
        "# get elements from the end of the list\n",
        "print(stack.pop(-1))\n",
        "print(stack.pop(-1))\n",
        "print(stack.pop(-1))"
      ]
    },
    {
      "cell_type": "markdown",
      "id": "b1c84ef4",
      "metadata": {
        "id": "b1c84ef4"
      },
      "source": [
        "## Classes"
      ]
    },
    {
      "cell_type": "markdown",
      "source": [
        "Triển khai Node với value và con trỏ next"
      ],
      "metadata": {
        "id": "H8B9Mv4GsfQh"
      },
      "id": "H8B9Mv4GsfQh"
    },
    {
      "cell_type": "code",
      "execution_count": 1,
      "id": "6b64969d",
      "metadata": {
        "id": "6b64969d"
      },
      "outputs": [],
      "source": [
        "# Stack implementation using a linked list\n",
        "\n",
        "# node class\n",
        "class Node:\n",
        "    def __init__(self, value):\n",
        "        self.value = value\n",
        "        self.next = None"
      ]
    },
    {
      "cell_type": "code",
      "execution_count": null,
      "id": "43c3618b",
      "metadata": {
        "id": "43c3618b"
      },
      "outputs": [],
      "source": [
        "class Stack:\n",
        "    # Initializing a stack\n",
        "    # Use a dummy node, which is easier for handling edge cases.\n",
        "    def __init__(self):\n",
        "        self.head = Node(\"head\")\n",
        "        self.size = 0\n",
        "\n",
        "    # String representation of the stack\n",
        "    def __str__(self):\n",
        "        cur = self.head.next\n",
        "        out = \"\"\n",
        "        while cur:\n",
        "            out += str(cur.value) + \"->\"\n",
        "            cur = cur.next\n",
        "        return out[:-3]\n",
        "\n",
        "    # Get the current size of the stack\n",
        "    def getSize(self):\n",
        "        return self.size\n",
        "\n",
        "    # Check if the stack is empty\n",
        "    def isEmpty(self):\n",
        "        return self.size == 0\n",
        "\n",
        "    # Get the top item of the stack\n",
        "    def peek(self):\n",
        "        # Sanitary check to see if we are peeking an empty stack.\n",
        "        if self.isEmpty():\n",
        "            raise Exception(\"Peeking from an empty stack\")\n",
        "        return self.head.next.value\n",
        "\n",
        "    # Push a value into the stack.\n",
        "    def push(self, value):\n",
        "        node = Node(value)\n",
        "        node.next = self.head.next\n",
        "        self.head.next = node\n",
        "        self.size += 1\n",
        "\n",
        "    # Remove a value from the stack and return.\n",
        "    def pop(self):\n",
        "        if self.isEmpty():\n",
        "            raise Exception(\"Popping from an empty stack\")\n",
        "        remove = self.head.next\n",
        "        self.head.next = self.head.next.next\n",
        "        self.size -= 1\n",
        "        return remove.value"
      ]
    },
    {
      "cell_type": "code",
      "execution_count": null,
      "id": "cb03fb8d",
      "metadata": {
        "id": "cb03fb8d"
      },
      "outputs": [],
      "source": [
        "# Driver Code\n",
        "if __name__ == \"__main__\":\n",
        "    stack = Stack()\n",
        "    for i in range(1, 11):\n",
        "        stack.push(i)\n",
        "    print(f\"Stack: {stack}\")\n",
        "\n",
        "    for _ in range(1, 6):\n",
        "        remove = stack.pop()\n",
        "        print(f\"Pop: {remove}\")\n",
        "    print(f\"Stack: {stack}\")"
      ]
    }
  ],
  "metadata": {
    "kernelspec": {
      "display_name": "Python 3 (ipykernel)",
      "language": "python",
      "name": "python3"
    },
    "language_info": {
      "codemirror_mode": {
        "name": "ipython",
        "version": 3
      },
      "file_extension": ".py",
      "mimetype": "text/x-python",
      "name": "python",
      "nbconvert_exporter": "python",
      "pygments_lexer": "ipython3",
      "version": "3.9.12"
    },
    "colab": {
      "provenance": [],
      "toc_visible": true
    }
  },
  "nbformat": 4,
  "nbformat_minor": 5
}