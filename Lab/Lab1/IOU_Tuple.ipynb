{
  "nbformat": 4,
  "nbformat_minor": 0,
  "metadata": {
    "colab": {
      "provenance": []
    },
    "kernelspec": {
      "name": "python3",
      "display_name": "Python 3"
    },
    "language_info": {
      "name": "python"
    }
  },
  "cells": [
    {
      "cell_type": "code",
      "source": [
        "from google.colab import drive\n",
        "drive.mount('/content/drive')"
      ],
      "metadata": {
        "id": "AErI2J_cwTXq"
      },
      "execution_count": null,
      "outputs": []
    },
    {
      "cell_type": "markdown",
      "source": [
        "Hàm computeIoU(boxA, boxB) tính toán chỉ số IoU (Intersection over Union) giữa hai hộp giới hạn (bounding boxes) boxA và boxB.\n",
        "\n",
        "Đầu tiên, nó xác định tọa độ của hình chữ nhật giao nhau bằng cách lấy giá trị lớn nhất của x và y giữa boxA và boxB, cũng như lấy giá trị nhỏ nhất của x và y. Điều này đảm bảo rằng hình chữ nhật giao nhau được tính toán chính xác.\n",
        "\n",
        "Tiếp theo, nó tính diện tích của hình chữ nhật giao nhau.\n",
        "\n",
        "Sau đó, nó tính diện tích của cả hai hộp giới hạn.\n",
        "\n",
        "Cuối cùng, nó tính chỉ số IoU bằng cách chia diện tích của hình chữ nhật giao nhau cho tổng diện tích của cả hai hộp giới hạn trừ đi diện tích của hình chữ nhật giao nhau.\n",
        "\n",
        "Kết quả là chỉ số IoU, cho biết mức độ trùng lắp giữa hai hộp giới hạn."
      ],
      "metadata": {
        "id": "qUkKMEdowIPA"
      }
    },
    {
      "cell_type": "code",
      "source": [
        "def computeIoU(boxA, boxB):\n",
        "\t# determine the (x, y)-coordinates of the intersection rectangle\n",
        "\txA = max(boxA[0], boxB[0])\n",
        "\tyA = max(boxA[1], boxB[1])\n",
        "\txB = min(boxA[2], boxB[2])\n",
        "\tyB = min(boxA[3], boxB[3])\n",
        "\n",
        "\t# compute the area of intersection rectangle\n",
        "\tinterArea = max(0, xB - xA + 1) * max(0, yB - yA + 1)\n",
        "\t# compute the area of both the prediction and ground-truth\n",
        "\t# rectangles\n",
        "\tboxAArea = (boxA[2] - boxA[0] + 1) * (boxA[3] - boxA[1] + 1)\n",
        "\tboxBArea = (boxB[2] - boxB[0] + 1) * (boxB[3] - boxB[1] + 1)\n",
        "\t# compute the intersection over union by taking the intersection\n",
        "\t# area and dividing it by the sum of prediction + ground-truth\n",
        "\t# areas - the interesection area\n",
        "\tiou = interArea / float(boxAArea + boxBArea - interArea)\n",
        "\t# return the intersection over union value\n",
        "\treturn iou"
      ],
      "metadata": {
        "id": "oEHgTBmBV4cb"
      },
      "execution_count": 3,
      "outputs": []
    },
    {
      "cell_type": "code",
      "source": [
        "boxA = (0,0,5,5)\n",
        "boxB = (2.5,2.5,7.5,7.5)\n",
        "error = computeIoU(boxA,boxB)\n",
        "print(error)"
      ],
      "metadata": {
        "colab": {
          "base_uri": "https://localhost:8080/"
        },
        "id": "I1ei5z6FV4CM",
        "outputId": "1fc1a7e5-5329-4d5c-a278-ac333b4205b0"
      },
      "execution_count": 4,
      "outputs": [
        {
          "output_type": "stream",
          "name": "stdout",
          "text": [
            "0.20502092050209206\n"
          ]
        }
      ]
    }
  ]
}