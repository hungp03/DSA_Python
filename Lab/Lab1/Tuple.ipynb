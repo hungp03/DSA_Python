{
  "nbformat": 4,
  "nbformat_minor": 0,
  "metadata": {
    "colab": {
      "provenance": []
    },
    "kernelspec": {
      "name": "python3",
      "display_name": "Python 3"
    },
    "language_info": {
      "name": "python"
    }
  },
  "cells": [
    {
      "cell_type": "markdown",
      "source": [
        "# Tuple\n",
        "Notebook được thực hiện bởi Phạm Văn Hùng - N21DCCN035"
      ],
      "metadata": {
        "id": "ooyc7Cqb5t-3"
      }
    },
    {
      "cell_type": "code",
      "execution_count": null,
      "metadata": {
        "colab": {
          "base_uri": "https://localhost:8080/"
        },
        "id": "WQ2EWaWyoQlQ",
        "outputId": "c7e8d4a8-4e42-4e2c-deba-49ed2103940b"
      },
      "outputs": [
        {
          "output_type": "stream",
          "name": "stdout",
          "text": [
            "1\n",
            "2\n",
            "3\n"
          ]
        }
      ],
      "source": [
        "t = (1, 2, 3)\n",
        "\n",
        "print(t[0])\n",
        "print(t[1])\n",
        "print(t[2])"
      ]
    },
    {
      "cell_type": "markdown",
      "source": [
        "Trong đoạn trên, t[0] tương ứng với phần tử đầu tiên, t[1] là phần tử thứ 2 và t[2] là phần tử thứ 3"
      ],
      "metadata": {
        "id": "kWNRtAPcojGT"
      }
    },
    {
      "cell_type": "code",
      "source": [
        "t = 1, 2\n",
        "print(t)\n",
        "print(type(t))"
      ],
      "metadata": {
        "colab": {
          "base_uri": "https://localhost:8080/"
        },
        "id": "WAUw9a7eoxIT",
        "outputId": "aafb815e-d79b-400c-d157-8f95d4446dd0"
      },
      "execution_count": null,
      "outputs": [
        {
          "output_type": "stream",
          "name": "stdout",
          "text": [
            "(1, 2)\n",
            "<class 'tuple'>\n"
          ]
        }
      ]
    },
    {
      "cell_type": "markdown",
      "source": [
        "Trong python, ta có thể tạo một tuple mà không cần dùng đến ngoặc đơn nếu tuple đó có 2 phần tử trở lên, nếu có một phần tử, ta cần khai báo dạng `(element,)`"
      ],
      "metadata": {
        "id": "kTDfXy1UpCAj"
      }
    },
    {
      "cell_type": "code",
      "source": [
        "singleton = (1, )\n",
        "singleton"
      ],
      "metadata": {
        "colab": {
          "base_uri": "https://localhost:8080/"
        },
        "id": "xRYghcVEpf73",
        "outputId": "c4275ce1-f439-4fd8-e72c-0ddc0c30af0b"
      },
      "execution_count": null,
      "outputs": [
        {
          "output_type": "execute_result",
          "data": {
            "text/plain": [
              "(1,)"
            ]
          },
          "metadata": {},
          "execution_count": 3
        }
      ]
    },
    {
      "cell_type": "code",
      "source": [
        "var1 = (1 + 2) * 5\n",
        "print(type(var1), ' ', var1)\n",
        "\n",
        "var2 = (1)\n",
        "print(type(var2), ' ', var2)\n",
        "\n",
        "var3 = (1,)\n",
        "print(type(var3), ' ', var3)"
      ],
      "metadata": {
        "colab": {
          "base_uri": "https://localhost:8080/"
        },
        "id": "b9HH4r8vp7yE",
        "outputId": "820fc6fc-6058-4799-f424-06636dcea4f8"
      },
      "execution_count": null,
      "outputs": [
        {
          "output_type": "stream",
          "name": "stdout",
          "text": [
            "<class 'int'>   15\n",
            "<class 'int'>   1\n",
            "<class 'tuple'>   (1,)\n"
          ]
        }
      ]
    },
    {
      "cell_type": "markdown",
      "source": [
        "Trong đoạn code trên, var1 là phép nhân của tổng (1 + 2), không phải là tuple nên kết quả trả về là `3 * 5 = 15`\n",
        "\n",
        "var2 khai báo theo kiểu số nguyên, nếu muốn khai báo tuple thì cần làm như sau: `var2 = (1)`\n",
        "\n",
        "var3 là 1 cách khai báo tuple, nên kết quả sẽ trả về dạng tuple"
      ],
      "metadata": {
        "id": "KkIxKux7qCLK"
      }
    },
    {
      "cell_type": "markdown",
      "source": [
        "Chúng ta cũng có thể lặp tuple bằng cách nhân tuple với một số thay vì phải nối tuple"
      ],
      "metadata": {
        "id": "fJl9yi_FqvMp"
      }
    },
    {
      "cell_type": "code",
      "source": [
        "t = (1,) * 5\n",
        "print(t)"
      ],
      "metadata": {
        "colab": {
          "base_uri": "https://localhost:8080/"
        },
        "id": "L0kdO8PDqk4p",
        "outputId": "855ec859-5e2e-47b9-a8a9-7bae178aaa3c"
      },
      "execution_count": null,
      "outputs": [
        {
          "output_type": "stream",
          "name": "stdout",
          "text": [
            "(1, 1, 1, 1, 1)\n"
          ]
        }
      ]
    },
    {
      "cell_type": "markdown",
      "source": [
        "Chúng ta cũng có thể nối tuple bằng cách dùng phép +="
      ],
      "metadata": {
        "id": "-8G3nAK_rJNu"
      }
    },
    {
      "cell_type": "code",
      "source": [
        "t1 = (1, 0)\n",
        "print(t1)\n",
        "\n",
        "t1 += (2,)\n",
        "print(t1)"
      ],
      "metadata": {
        "colab": {
          "base_uri": "https://localhost:8080/"
        },
        "id": "SJN7SUzRrOby",
        "outputId": "569f4c41-5749-4a5d-ada1-5ce53ce503bc"
      },
      "execution_count": null,
      "outputs": [
        {
          "output_type": "stream",
          "name": "stdout",
          "text": [
            "(1, 0)\n",
            "(1, 0, 2)\n"
          ]
        }
      ]
    },
    {
      "cell_type": "markdown",
      "source": [
        "## Tuple methods"
      ],
      "metadata": {
        "id": "9NcnpM78rTmS"
      }
    },
    {
      "cell_type": "markdown",
      "source": [
        "`count(x)`: Sử dụng để đếm số lượng phần tử có giá trị là `x`\n",
        "\n",
        "`index(x)`: tìm vị trí đầu tiên của phần tử `x` trong tuple"
      ],
      "metadata": {
        "id": "GuD1SoEDrahe"
      }
    },
    {
      "cell_type": "code",
      "source": [
        "t = (1,2,3,1)\n",
        "count = t.count(1)\n",
        "index = t.index(2)\n",
        "\n",
        "print(count)\n",
        "print(index)"
      ],
      "metadata": {
        "colab": {
          "base_uri": "https://localhost:8080/"
        },
        "id": "qweMZcYHrXuv",
        "outputId": "91024af8-395e-4d8d-8c54-47f1ac7d4fec"
      },
      "execution_count": null,
      "outputs": [
        {
          "output_type": "stream",
          "name": "stdout",
          "text": [
            "2\n",
            "1\n"
          ]
        }
      ]
    },
    {
      "cell_type": "markdown",
      "source": [
        "#### Tuples cặp khóa / giá trị để xây dựng dictionary"
      ],
      "metadata": {
        "id": "EaiH9qY_sH99"
      }
    },
    {
      "cell_type": "markdown",
      "source": [
        "Ta có thể sử dụng tuple như là một phần tử trong dictionary với phần tử đầu tiên trong tuple là khóa (`key`) và phần tử thứ 2 là giá trị (`value`)"
      ],
      "metadata": {
        "id": "tDUb9ikasOsU"
      }
    },
    {
      "cell_type": "code",
      "source": [
        "d = dict([('jan', 1), ('feb', 2), ('march', 3)])\n",
        "\n",
        "print(d['jan'])\n",
        "print(d['feb'])\n",
        "print(d['march'])"
      ],
      "metadata": {
        "colab": {
          "base_uri": "https://localhost:8080/"
        },
        "id": "L3BwN7nVsDhi",
        "outputId": "f8899132-7d75-44d2-8f1a-31e6560db0cd"
      },
      "execution_count": null,
      "outputs": [
        {
          "output_type": "stream",
          "name": "stdout",
          "text": [
            "1\n",
            "2\n",
            "3\n"
          ]
        }
      ]
    },
    {
      "cell_type": "markdown",
      "source": [
        "#### Get multiple values"
      ],
      "metadata": {
        "id": "MddsD_mls5bW"
      }
    },
    {
      "cell_type": "code",
      "source": [
        "x1,y1,z1   = ('a','b','c')\n",
        "(x2,y2,z2) = ('a','b','c')\n",
        "(x3,y3,z3) = range(3)\n",
        "\n",
        "print(x1)\n",
        "print(x2)\n",
        "print(x3)"
      ],
      "metadata": {
        "colab": {
          "base_uri": "https://localhost:8080/"
        },
        "id": "9z3INiews0ZH",
        "outputId": "5914a274-1813-49d6-9d8a-c0649703525c"
      },
      "execution_count": null,
      "outputs": [
        {
          "output_type": "stream",
          "name": "stdout",
          "text": [
            "a\n",
            "a\n",
            "0\n"
          ]
        }
      ]
    },
    {
      "cell_type": "markdown",
      "source": [
        "Mỗi giá trị trong tuple `('a', 'b', 'c')` tương ứng với một biến trong dãy biến được gán. Sau khi thực hiện, `x1` sẽ có giá trị `'a'`, `y1` có giá trị `'b'`, và `z1` có giá trị `'c'`\n",
        "\n",
        "Tương tự với `x2, y2, z2`\n",
        "\n",
        "Trong dòng cuối cùng, `x3, y3, z3` được gắn với một dãy số chạy từ 0 -> 2. Cuối cùng kết quả trả về là `x3` = `0`, `y3` = `1`, `z3` = `2`"
      ],
      "metadata": {
        "id": "qEj0aLLJtLnJ"
      }
    },
    {
      "cell_type": "markdown",
      "source": [
        "Đoạn dưới đây tương tự như `x3, y3, z3`"
      ],
      "metadata": {
        "id": "1_9zTh06uDv0"
      }
    },
    {
      "cell_type": "code",
      "source": [
        "(x,y,z) = range(3)\n",
        "print(x,y,z)"
      ],
      "metadata": {
        "colab": {
          "base_uri": "https://localhost:8080/"
        },
        "id": "0e8m39yCt7Md",
        "outputId": "024a7ea7-db1e-4445-d0fe-2ae2a817fd87"
      },
      "execution_count": null,
      "outputs": [
        {
          "output_type": "stream",
          "name": "stdout",
          "text": [
            "0 1 2\n"
          ]
        }
      ]
    },
    {
      "cell_type": "code",
      "source": [
        "a = range(3)\n",
        "print(type(a))"
      ],
      "metadata": {
        "colab": {
          "base_uri": "https://localhost:8080/"
        },
        "id": "XyJB84nWuVPn",
        "outputId": "f2d90af6-69a0-421d-a66d-0b8a100d1608"
      },
      "execution_count": null,
      "outputs": [
        {
          "output_type": "stream",
          "name": "stdout",
          "text": [
            "<class 'range'>\n"
          ]
        }
      ]
    },
    {
      "cell_type": "markdown",
      "source": [
        "Đoạn code phía trên sẽ sử dụng một class `range`, là class sử dụng cho việc lặp. Ở đây, `a` là một đối tượng `range` lặp từ 0 đến 2"
      ],
      "metadata": {
        "id": "OW-LWud5uXCa"
      }
    },
    {
      "cell_type": "code",
      "source": [
        "d = {'first':'string value', 'second':1}\n",
        "for a in d:\n",
        "    print(a)"
      ],
      "metadata": {
        "colab": {
          "base_uri": "https://localhost:8080/"
        },
        "id": "jJ2nNNKtuoqX",
        "outputId": "d3da0b74-dd5d-48bf-8517-4307b2360a8f"
      },
      "execution_count": null,
      "outputs": [
        {
          "output_type": "stream",
          "name": "stdout",
          "text": [
            "first\n",
            "second\n"
          ]
        }
      ]
    },
    {
      "cell_type": "markdown",
      "source": [
        "Trong đoạn code trên, ta sử dụng một vòng lặp để duyệt qua các phần tử của một dictionary và in ra key của nó"
      ],
      "metadata": {
        "id": "PY_8NReCu3s1"
      }
    },
    {
      "cell_type": "markdown",
      "source": [
        "Để lấy cả `key` và `value`, ta sử dụng phương thức `items()`"
      ],
      "metadata": {
        "id": "TtpZS4ZHvEP0"
      }
    },
    {
      "cell_type": "code",
      "source": [
        "d = {'first':'string value', 'second':[1,2]}\n",
        "items = d.items()\n",
        "print('items:', items)\n",
        "for k,v in items:\n",
        "    print(k, v)"
      ],
      "metadata": {
        "colab": {
          "base_uri": "https://localhost:8080/"
        },
        "id": "pSjvolwzvB-R",
        "outputId": "fb296e84-3205-45d7-e180-d587ff4add52"
      },
      "execution_count": null,
      "outputs": [
        {
          "output_type": "stream",
          "name": "stdout",
          "text": [
            "items: dict_items([('first', 'string value'), ('second', [1, 2])])\n",
            "first string value\n",
            "second [1, 2]\n"
          ]
        }
      ]
    },
    {
      "cell_type": "markdown",
      "source": [
        "#### Tuple unpacking"
      ],
      "metadata": {
        "id": "chcdkx0yveRP"
      }
    },
    {
      "cell_type": "markdown",
      "source": [
        "Tuple unpacking cho phép trích xuất các phần tử tuple tự động là danh sách các biến ở bên trái có cùng số phần tử với độ dài của tuple, ở đây `x` sẽ lấy phần tử đầu tiên của tuple `data`"
      ],
      "metadata": {
        "id": "GypYZ2AWvmJh"
      }
    },
    {
      "cell_type": "code",
      "source": [
        "data  = (1,2,3)\n",
        "x, y, z = data\n",
        "print(x)"
      ],
      "metadata": {
        "colab": {
          "base_uri": "https://localhost:8080/"
        },
        "id": "PS-CsId7vSQB",
        "outputId": "538d72ec-73d6-482d-fd91-679650210062"
      },
      "execution_count": null,
      "outputs": [
        {
          "output_type": "stream",
          "name": "stdout",
          "text": [
            "1\n"
          ]
        }
      ]
    },
    {
      "cell_type": "markdown",
      "source": [
        "Ta cũng có thể sử dụng tuple để đảo ngược giá trị của các phần tử"
      ],
      "metadata": {
        "id": "7WpgZ7ilvu-o"
      }
    },
    {
      "cell_type": "code",
      "source": [
        "x = 4\n",
        "y = 5\n",
        "\n",
        "print(x, y)\n",
        "\n",
        "(x,y) = (y,x)\n",
        "print(x, y)"
      ],
      "metadata": {
        "colab": {
          "base_uri": "https://localhost:8080/"
        },
        "id": "N8sc40bmv0nE",
        "outputId": "1ed26d8e-7f50-48ae-bd26-781041cf7143"
      },
      "execution_count": null,
      "outputs": [
        {
          "output_type": "stream",
          "name": "stdout",
          "text": [
            "4 5\n",
            "5 4\n"
          ]
        }
      ]
    },
    {
      "cell_type": "markdown",
      "source": [
        "Viết 1 hàm để swap 2 số dùng tuple\n",
        "\n",
        "Cách hoạt động tương tự như việc dùng biến tạm\n",
        "\n",
        "`v1` gắn bằng `v2`, `v2` gắn ngược lại bằng `v1`"
      ],
      "metadata": {
        "id": "gacu4a1-wN-H"
      }
    },
    {
      "cell_type": "code",
      "source": [
        "def swap(v1, v2):\n",
        "    (v2, v1) = (v1, v2)\n",
        "    return (v1, v2)"
      ],
      "metadata": {
        "id": "65QT41axwZoy"
      },
      "execution_count": null,
      "outputs": []
    },
    {
      "cell_type": "code",
      "source": [
        "v1 = 2\n",
        "v2 = 3\n",
        "(v1, v2) = swap(v1, v2)\n",
        "\n",
        "# print\n",
        "print(v1)\n",
        "print(v2)"
      ],
      "metadata": {
        "colab": {
          "base_uri": "https://localhost:8080/"
        },
        "id": "Gf3st-kQwa7H",
        "outputId": "0cfb8206-e42e-4129-b4ca-fc9ad860c283"
      },
      "execution_count": null,
      "outputs": [
        {
          "output_type": "stream",
          "name": "stdout",
          "text": [
            "3\n",
            "2\n"
          ]
        }
      ]
    },
    {
      "cell_type": "markdown",
      "source": [
        "#### Misc\n"
      ],
      "metadata": {
        "id": "0p682SZmwx6R"
      }
    },
    {
      "cell_type": "markdown",
      "source": [
        "Để tìm độ dài của tuple, ta sử dụng phương thức `len`. Phương thức này sẽ đếm số phần tử có trong tuple và trả về một số nguyên không âm duy nhất"
      ],
      "metadata": {
        "id": "2RTgoIeYwz5N"
      }
    },
    {
      "cell_type": "code",
      "source": [
        "t = (1, 2, 3, 4)\n",
        "len(t)"
      ],
      "metadata": {
        "colab": {
          "base_uri": "https://localhost:8080/"
        },
        "id": "2ldt8MJdxBYv",
        "outputId": "ec3852d1-72ec-4ddf-cfba-bf7ea528353b"
      },
      "execution_count": null,
      "outputs": [
        {
          "output_type": "execute_result",
          "data": {
            "text/plain": [
              "4"
            ]
          },
          "metadata": {},
          "execution_count": 22
        }
      ]
    },
    {
      "cell_type": "markdown",
      "source": [
        "Slicing"
      ],
      "metadata": {
        "id": "VT-UdNujxGPf"
      }
    },
    {
      "cell_type": "code",
      "source": [
        "data = (1, 2, 3, 4, 5)\n",
        "print(data[2:])\n",
        "print(data[::-1])"
      ],
      "metadata": {
        "colab": {
          "base_uri": "https://localhost:8080/"
        },
        "id": "eL_4NShaxJEa",
        "outputId": "12229921-c610-4b17-9f3b-e1e3855769e2"
      },
      "execution_count": null,
      "outputs": [
        {
          "output_type": "stream",
          "name": "stdout",
          "text": [
            "(3, 4, 5)\n",
            "(5, 4, 3, 2, 1)\n",
            "()\n"
          ]
        }
      ]
    },
    {
      "cell_type": "markdown",
      "source": [
        "`print(data[2:])` sẽ lấy các phần tử từ vị trí thứ 2 đến cuối tuple\n",
        "\n",
        "`print(data[::-1])` lấy tất cả các phần tử nhưng theo hướng ngược lại"
      ],
      "metadata": {
        "id": "BoZuxgLOxLcH"
      }
    },
    {
      "cell_type": "markdown",
      "source": [
        "#### Copy tuple"
      ],
      "metadata": {
        "id": "ci3k9LeQyH0g"
      }
    },
    {
      "cell_type": "code",
      "source": [
        "from copy import copy\n",
        "t = (1, 2, 3, 4, 5)\n",
        "\n",
        "new_t = copy(t)\n",
        "print(new_t)"
      ],
      "metadata": {
        "colab": {
          "base_uri": "https://localhost:8080/"
        },
        "id": "d0fEqDwnx9a4",
        "outputId": "a94d9041-856f-47b4-f7e3-490f247f6975"
      },
      "execution_count": null,
      "outputs": [
        {
          "output_type": "stream",
          "name": "stdout",
          "text": [
            "(1, 2, 3, 4, 5)\n"
          ]
        }
      ]
    },
    {
      "cell_type": "markdown",
      "source": [
        "Sử dụng thư viện copy để copy một tuple. Lưu ý rằng khi thay đổi ở tuple dùng phương thức `copy ` thì tuple chính cũng thay đổi, `deepcopy` sẽ không làm thay đổi"
      ],
      "metadata": {
        "id": "TxFvs-0TyThM"
      }
    },
    {
      "cell_type": "markdown",
      "source": [
        "#### Tuple are not fully immutable"
      ],
      "metadata": {
        "id": "UOXl1SvazGi1"
      }
    },
    {
      "cell_type": "markdown",
      "source": [
        "Mặc dù các tuple không thể thay đổi (immutable), nhưng nếu chúng chứa các đối tượng có thể thay đổi (mutable), thì vẫn có thể thay đổi nội dung của các đối tượng đó bên trong tuple"
      ],
      "metadata": {
        "id": "9PTxkjHczIkC"
      }
    },
    {
      "cell_type": "markdown",
      "source": [
        "Ví dụ dưới cho thấy nếu list ở bên trong tuple, ta vẫn có thể thay đổi giá trị trong list đó"
      ],
      "metadata": {
        "id": "ZFF41iLHzTCX"
      }
    },
    {
      "cell_type": "code",
      "source": [
        "t = (1, 2, [3, 10])\n",
        "t[2][0] = 9\n",
        "print(t)"
      ],
      "metadata": {
        "colab": {
          "base_uri": "https://localhost:8080/"
        },
        "id": "tm-kZQkIyus7",
        "outputId": "7d0fbf3c-8b69-48e8-8f10-b67fa8d5d6a4"
      },
      "execution_count": null,
      "outputs": [
        {
          "output_type": "stream",
          "name": "stdout",
          "text": [
            "(1, 2, [9, 10])\n"
          ]
        }
      ]
    },
    {
      "cell_type": "code",
      "source": [
        "t = (1, 2, [3, 10])\n",
        "t[2][1] = 4\n",
        "print(t)"
      ],
      "metadata": {
        "colab": {
          "base_uri": "https://localhost:8080/"
        },
        "id": "EbGu5XtJzzI1",
        "outputId": "7d12af34-a6a0-4d3f-c54d-34c6beb5f69e"
      },
      "execution_count": null,
      "outputs": [
        {
          "output_type": "stream",
          "name": "stdout",
          "text": [
            "(1, 2, [3, 4])\n"
          ]
        }
      ]
    },
    {
      "cell_type": "markdown",
      "source": [
        "Mặt khác, nếu tuple không chứa các đối tượng có thể thay đổi, thì nó sẽ trả về lỗi khi có gắng thay đổi\n"
      ],
      "metadata": {
        "id": "27Wzlw1UzgMy"
      }
    },
    {
      "cell_type": "code",
      "source": [
        "tuple_immutable = (1, 2, 3)\n",
        "tuple_immutable[0] = 4"
      ],
      "metadata": {
        "colab": {
          "base_uri": "https://localhost:8080/",
          "height": 164
        },
        "id": "NN0ao75uzpjH",
        "outputId": "ec3818ba-b87f-49d9-fee6-8b4e94dfa295"
      },
      "execution_count": null,
      "outputs": [
        {
          "output_type": "error",
          "ename": "TypeError",
          "evalue": "'tuple' object does not support item assignment",
          "traceback": [
            "\u001b[0;31m---------------------------------------------------------------------------\u001b[0m",
            "\u001b[0;31mTypeError\u001b[0m                                 Traceback (most recent call last)",
            "\u001b[0;32m<ipython-input-33-c00c2f5104d8>\u001b[0m in \u001b[0;36m<cell line: 2>\u001b[0;34m()\u001b[0m\n\u001b[1;32m      1\u001b[0m \u001b[0mtuple_immutable\u001b[0m \u001b[0;34m=\u001b[0m \u001b[0;34m(\u001b[0m\u001b[0;36m1\u001b[0m\u001b[0;34m,\u001b[0m \u001b[0;36m2\u001b[0m\u001b[0;34m,\u001b[0m \u001b[0;36m3\u001b[0m\u001b[0;34m)\u001b[0m\u001b[0;34m\u001b[0m\u001b[0;34m\u001b[0m\u001b[0m\n\u001b[0;32m----> 2\u001b[0;31m \u001b[0mtuple_immutable\u001b[0m\u001b[0;34m[\u001b[0m\u001b[0;36m0\u001b[0m\u001b[0;34m]\u001b[0m \u001b[0;34m=\u001b[0m \u001b[0;36m4\u001b[0m\u001b[0;34m\u001b[0m\u001b[0;34m\u001b[0m\u001b[0m\n\u001b[0m",
            "\u001b[0;31mTypeError\u001b[0m: 'tuple' object does not support item assignment"
          ]
        }
      ]
    },
    {
      "cell_type": "markdown",
      "source": [
        "Chúng ta cũng có thể đổi tuple sang chuỗi bằng cách dùng `str`"
      ],
      "metadata": {
        "id": "fL7nvR15z5uu"
      }
    },
    {
      "cell_type": "code",
      "source": [
        "data = (1, 2, 3, 4, 5)\n",
        "data_str = str(data)\n",
        "print(data_str)\n",
        "print(type(data_str))"
      ],
      "metadata": {
        "colab": {
          "base_uri": "https://localhost:8080/"
        },
        "id": "Xmccc-yizrZV",
        "outputId": "391872af-1a05-40df-fb9f-b690ad20be0d"
      },
      "execution_count": null,
      "outputs": [
        {
          "output_type": "stream",
          "name": "stdout",
          "text": [
            "(1, 2, 3, 4, 5)\n",
            "<class 'str'>\n"
          ]
        }
      ]
    },
    {
      "cell_type": "code",
      "source": [
        "print(data_str[0])"
      ],
      "metadata": {
        "colab": {
          "base_uri": "https://localhost:8080/"
        },
        "id": "SzTCRaae0Dke",
        "outputId": "d9847f53-a8e3-458e-e1da-ccc45f9b0ede"
      },
      "execution_count": null,
      "outputs": [
        {
          "output_type": "stream",
          "name": "stdout",
          "text": [
            "(\n"
          ]
        }
      ]
    },
    {
      "cell_type": "markdown",
      "source": [
        "Ta cũng có thể dùng các hàm toán học và các phép so sánh trên tuple"
      ],
      "metadata": {
        "id": "vfRissTx0BT9"
      }
    },
    {
      "cell_type": "code",
      "source": [
        "t = (1, 2, 3, 4, 5)\n",
        "\n",
        "print(min(t))\n",
        "print(max(t))\n",
        "print(sum(t))"
      ],
      "metadata": {
        "colab": {
          "base_uri": "https://localhost:8080/"
        },
        "id": "wOy42K3W0RZi",
        "outputId": "712c4d7f-0c20-453e-a8fc-93ab45f4205b"
      },
      "execution_count": null,
      "outputs": [
        {
          "output_type": "stream",
          "name": "stdout",
          "text": [
            "1\n",
            "5\n",
            "15\n"
          ]
        }
      ]
    },
    {
      "cell_type": "code",
      "source": [
        "t = (4, 7, 3, 9, 6)\n",
        "t_s = sorted(t)\n",
        "print(t_s)"
      ],
      "metadata": {
        "colab": {
          "base_uri": "https://localhost:8080/"
        },
        "id": "V5VQ_fyr0Vpk",
        "outputId": "be95c2fd-30f8-4ef5-ee8c-c81cc58df460"
      },
      "execution_count": null,
      "outputs": [
        {
          "output_type": "stream",
          "name": "stdout",
          "text": [
            "[3, 4, 6, 7, 9]\n"
          ]
        }
      ]
    },
    {
      "cell_type": "markdown",
      "source": [
        "hàm `sorted` sẽ tạo một list mới là các phần tử trong tuple, sắp theo thứ tự tăng dần"
      ],
      "metadata": {
        "id": "4kVn6Naq0Q8Z"
      }
    },
    {
      "cell_type": "code",
      "source": [
        "t1 = (1, 2, 3, 4, 5)\n",
        "t2 = ('a', 'b', 'c', 'd', 'e')\n",
        "\n",
        "print(t1)\n",
        "print(t2)\n",
        "\n",
        "t3 = zip(t1, t2)\n",
        "for x,y in t3:\n",
        "    print(x, y)"
      ],
      "metadata": {
        "colab": {
          "base_uri": "https://localhost:8080/"
        },
        "id": "RUln7eMb0ZgO",
        "outputId": "ab676cbd-6d23-4e18-e0bb-7916bb4c8265"
      },
      "execution_count": null,
      "outputs": [
        {
          "output_type": "stream",
          "name": "stdout",
          "text": [
            "(1, 2, 3, 4, 5)\n",
            "('a', 'b', 'c', 'd', 'e')\n",
            "1 a\n",
            "2 b\n",
            "3 c\n",
            "4 d\n",
            "5 e\n"
          ]
        }
      ]
    },
    {
      "cell_type": "markdown",
      "source": [
        "Hàm `zip` sẽ đóng gói các dữ liệu của `t1` và `t2` theo thứ tự, ví dụ: `(1,a)`, `(2,b)` dưới dạng các tuple ...\n",
        "\n",
        "Sau đó duyệt qua vòng for để lấy dữ liệu và in kết quả ra màn hình"
      ],
      "metadata": {
        "id": "s75Hbja60qgG"
      }
    },
    {
      "cell_type": "code",
      "source": [
        "import math\n",
        "\n",
        "def quadratic_equation(a, b, c):\n",
        "    '''\n",
        "    This function aims at solving the quadratic equation\n",
        "    a, b, c --- three parameters and a =! 0\n",
        "    '''\n",
        "\n",
        "    # compute delta\n",
        "    delta = b*b - 4*a*c\n",
        "\n",
        "    if delta < 0:\n",
        "        return ()\n",
        "    elif delta == 0:\n",
        "        x = (-b+math.sqrt(delta))/2*a\n",
        "        return (x,)\n",
        "    else:\n",
        "        x1 = (-b+math.sqrt(delta))/(2*a)\n",
        "        x2 = (-b-math.sqrt(delta))/(2*a)\n",
        "        return (x1,x2)"
      ],
      "metadata": {
        "id": "xkBb6u-G1FCo"
      },
      "execution_count": null,
      "outputs": []
    },
    {
      "cell_type": "markdown",
      "source": [
        "quadratic_equation sẽ trả về một tuple chứa các nghiệm của phương trình bậc hai. Nếu không có nghiệm thực, nó sẽ trả về một tuple rỗng"
      ],
      "metadata": {
        "id": "RE7Iz2MR1qwn"
      }
    },
    {
      "cell_type": "code",
      "source": [
        "result = quadratic_equation(a=5, b=0, c=1)\n",
        "print(type(result))\n",
        "print(len(result))\n",
        "print(result)"
      ],
      "metadata": {
        "colab": {
          "base_uri": "https://localhost:8080/"
        },
        "id": "av6FBf8e1yJq",
        "outputId": "58496a18-07d4-4a12-d8ea-e7f197611bcd"
      },
      "execution_count": null,
      "outputs": [
        {
          "output_type": "stream",
          "name": "stdout",
          "text": [
            "<class 'tuple'>\n",
            "0\n",
            "()\n"
          ]
        }
      ]
    },
    {
      "cell_type": "code",
      "source": [
        "result = quadratic_equation(a=5, b=5, c=1)\n",
        "print(type(result))\n",
        "print(len(result))\n",
        "print(result)"
      ],
      "metadata": {
        "colab": {
          "base_uri": "https://localhost:8080/"
        },
        "id": "YrixH8fw12Iq",
        "outputId": "c75dc146-d38b-4588-b786-8f36c4642b0e"
      },
      "execution_count": null,
      "outputs": [
        {
          "output_type": "stream",
          "name": "stdout",
          "text": [
            "<class 'tuple'>\n",
            "2\n",
            "(-0.276393202250021, -0.7236067977499789)\n"
          ]
        }
      ]
    },
    {
      "cell_type": "code",
      "source": [
        "result = quadratic_equation(a=4, b=4, c=1)\n",
        "print(type(result))\n",
        "print(len(result))\n",
        "print(result)"
      ],
      "metadata": {
        "colab": {
          "base_uri": "https://localhost:8080/"
        },
        "id": "znOhJpQP15Xx",
        "outputId": "0436272c-8b38-41e8-8758-6c890a9daa02"
      },
      "execution_count": null,
      "outputs": [
        {
          "output_type": "stream",
          "name": "stdout",
          "text": [
            "<class 'tuple'>\n",
            "1\n",
            "(-8.0,)\n"
          ]
        }
      ]
    },
    {
      "cell_type": "code",
      "source": [
        "result = quadratic_equation(a=4, b=4, c=1)\n",
        "result[0] = 1"
      ],
      "metadata": {
        "colab": {
          "base_uri": "https://localhost:8080/",
          "height": 164
        },
        "id": "17VVBbXn2AyO",
        "outputId": "08769a8c-fb2a-4460-b395-6a71638c2d33"
      },
      "execution_count": null,
      "outputs": [
        {
          "output_type": "error",
          "ename": "TypeError",
          "evalue": "'tuple' object does not support item assignment",
          "traceback": [
            "\u001b[0;31m---------------------------------------------------------------------------\u001b[0m",
            "\u001b[0;31mTypeError\u001b[0m                                 Traceback (most recent call last)",
            "\u001b[0;32m<ipython-input-45-55f394e5ddc8>\u001b[0m in \u001b[0;36m<cell line: 2>\u001b[0;34m()\u001b[0m\n\u001b[1;32m      1\u001b[0m \u001b[0mresult\u001b[0m \u001b[0;34m=\u001b[0m \u001b[0mquadratic_equation\u001b[0m\u001b[0;34m(\u001b[0m\u001b[0ma\u001b[0m\u001b[0;34m=\u001b[0m\u001b[0;36m4\u001b[0m\u001b[0;34m,\u001b[0m \u001b[0mb\u001b[0m\u001b[0;34m=\u001b[0m\u001b[0;36m4\u001b[0m\u001b[0;34m,\u001b[0m \u001b[0mc\u001b[0m\u001b[0;34m=\u001b[0m\u001b[0;36m1\u001b[0m\u001b[0;34m)\u001b[0m\u001b[0;34m\u001b[0m\u001b[0;34m\u001b[0m\u001b[0m\n\u001b[0;32m----> 2\u001b[0;31m \u001b[0mresult\u001b[0m\u001b[0;34m[\u001b[0m\u001b[0;36m0\u001b[0m\u001b[0;34m]\u001b[0m \u001b[0;34m=\u001b[0m \u001b[0;36m1\u001b[0m\u001b[0;34m\u001b[0m\u001b[0;34m\u001b[0m\u001b[0m\n\u001b[0m",
            "\u001b[0;31mTypeError\u001b[0m: 'tuple' object does not support item assignment"
          ]
        }
      ]
    },
    {
      "cell_type": "markdown",
      "source": [
        "Đoạn code trên thực thi không thành công vì kết quả trả về của hàm `quadratic_equation` là một tuple thuần túy nên nó không cho phép thay đổi giá trị (immutable)"
      ],
      "metadata": {
        "id": "Yit97Vyh2D66"
      }
    },
    {
      "cell_type": "markdown",
      "source": [
        "#### Tuple and zip"
      ],
      "metadata": {
        "id": "Lo-tDsOd2a9d"
      }
    },
    {
      "cell_type": "code",
      "source": [
        "x_data = [1, 2, 3]\n",
        "y_data = [5, 6, 7]\n",
        "data = zip(x_data, y_data)\n",
        "\n",
        "# print\n",
        "for d in data:\n",
        "    print(d)\n",
        "    print(type(d))"
      ],
      "metadata": {
        "colab": {
          "base_uri": "https://localhost:8080/"
        },
        "id": "jvWxC9M_2Uce",
        "outputId": "4cde493f-3cf2-43f2-e831-d94d4bab5177"
      },
      "execution_count": null,
      "outputs": [
        {
          "output_type": "stream",
          "name": "stdout",
          "text": [
            "(1, 5)\n",
            "<class 'tuple'>\n",
            "(2, 6)\n",
            "<class 'tuple'>\n",
            "(3, 7)\n",
            "<class 'tuple'>\n"
          ]
        }
      ]
    },
    {
      "cell_type": "markdown",
      "source": [
        "phương thức `zip` sẽ đóng gói phần tử từ các iterable thành các tuple với mỗi tuple chứa các phần tử có cùng vị trí từ các iterable tương ứng"
      ],
      "metadata": {
        "id": "d7n_Fhxl2fpj"
      }
    },
    {
      "cell_type": "markdown",
      "source": [
        "### Tuple and list"
      ],
      "metadata": {
        "id": "Ft0ui-xf3aa7"
      }
    },
    {
      "cell_type": "code",
      "source": [
        "# memory comparison\n",
        "import sys\n",
        "\n",
        "aList  = [3, 4, 5, 6, 7]\n",
        "aTuple = (3, 4, 5, 6, 7)\n",
        "\n",
        "print(sys.getsizeof(aList))\n",
        "print(sys.getsizeof(aTuple))"
      ],
      "metadata": {
        "colab": {
          "base_uri": "https://localhost:8080/"
        },
        "id": "U6xa6Wp-3Jqb",
        "outputId": "55368da4-2ad2-468c-f6f7-5240e64fbed2"
      },
      "execution_count": null,
      "outputs": [
        {
          "output_type": "stream",
          "name": "stdout",
          "text": [
            "104\n",
            "80\n"
          ]
        }
      ]
    },
    {
      "cell_type": "markdown",
      "source": [
        "Phương thức `getzieof` sẽ lấy về kích thước của một đối tượng. Ở đây kết quả cho thấy rằng `tuple` sử dụng ít bộ nhớ hơn so với `list`"
      ],
      "metadata": {
        "id": "raw46mC_3jJT"
      }
    },
    {
      "cell_type": "markdown",
      "source": [
        "Chuyển `list` sang `tuple` bằng cách ép kiểu"
      ],
      "metadata": {
        "id": "B99POmcO4CSk"
      }
    },
    {
      "cell_type": "code",
      "source": [
        "# convert from list to tuple\n",
        "aList  = [3, 4, 5, 6, 7]\n",
        "aTuple = tuple(aList)\n",
        "\n",
        "print(aTuple)\n",
        "print(type(aTuple))"
      ],
      "metadata": {
        "colab": {
          "base_uri": "https://localhost:8080/"
        },
        "id": "hXxKTKzj4HcY",
        "outputId": "24341bae-4c82-455c-aa91-4cbb0223deb9"
      },
      "execution_count": null,
      "outputs": [
        {
          "output_type": "stream",
          "name": "stdout",
          "text": [
            "(3, 4, 5, 6, 7)\n",
            "<class 'tuple'>\n"
          ]
        }
      ]
    },
    {
      "cell_type": "markdown",
      "source": [
        "Ngược lại, chuyển `tuple` sang `list`"
      ],
      "metadata": {
        "id": "JKH51C3r4KTo"
      }
    },
    {
      "cell_type": "code",
      "source": [
        "# convert from tuple to list\n",
        "aTuple  = (3, 4, 5, 6, 7)\n",
        "aList = list(aList)\n",
        "\n",
        "print(aList)\n",
        "print(type(aList))"
      ],
      "metadata": {
        "colab": {
          "base_uri": "https://localhost:8080/"
        },
        "id": "C2Go_EYw4OmY",
        "outputId": "a29f6871-0933-4aa0-c9f7-8b78bd5d9a65"
      },
      "execution_count": null,
      "outputs": [
        {
          "output_type": "stream",
          "name": "stdout",
          "text": [
            "[3, 4, 5, 6, 7]\n",
            "<class 'list'>\n"
          ]
        }
      ]
    }
  ]
}