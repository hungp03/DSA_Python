{
  "nbformat": 4,
  "nbformat_minor": 0,
  "metadata": {
    "colab": {
      "provenance": []
    },
    "kernelspec": {
      "name": "python3",
      "display_name": "Python 3"
    },
    "language_info": {
      "name": "python"
    }
  },
  "cells": [
    {
      "cell_type": "markdown",
      "source": [
        "# Set in Python\n",
        "Notebook được thực hiện bởi Phạm Văn Hùng - N21DCCN035"
      ],
      "metadata": {
        "id": "aFd_iYpc6hd-"
      }
    },
    {
      "cell_type": "markdown",
      "source": [
        "#### Khởi tạo set bằng cú pháp `set = {}`"
      ],
      "metadata": {
        "id": "sBHI55uR6nfS"
      }
    },
    {
      "cell_type": "code",
      "execution_count": 1,
      "metadata": {
        "colab": {
          "base_uri": "https://localhost:8080/"
        },
        "id": "v0YrWQY25IMF",
        "outputId": "3152b745-c5e5-4e76-bf05-bfaa139d5240"
      },
      "outputs": [
        {
          "output_type": "stream",
          "name": "stdout",
          "text": [
            "<class 'set'>\n",
            "{'dog', 'tiger', 'cat'}\n"
          ]
        }
      ],
      "source": [
        "# create a set\n",
        "animals = {\"cat\", \"dog\", \"tiger\"}\n",
        "\n",
        "print(type(animals))\n",
        "print(animals)"
      ]
    },
    {
      "cell_type": "markdown",
      "source": [
        "Set cũng hỗ trợ đa dạng các loại dữ liệu"
      ],
      "metadata": {
        "id": "6lvqVWfJ6y6p"
      }
    },
    {
      "cell_type": "code",
      "source": [
        "# create a set\n",
        "a_set = {\"cat\", 5, True, 40.0}\n",
        "\n",
        "print(type(a_set))\n",
        "print(a_set)"
      ],
      "metadata": {
        "colab": {
          "base_uri": "https://localhost:8080/"
        },
        "id": "JpSBpeCJ6w3M",
        "outputId": "1e23254f-8341-44d7-c3b7-703730a03daa"
      },
      "execution_count": 2,
      "outputs": [
        {
          "output_type": "stream",
          "name": "stdout",
          "text": [
            "<class 'set'>\n",
            "{40.0, True, 5, 'cat'}\n"
          ]
        }
      ]
    },
    {
      "cell_type": "markdown",
      "source": [
        "Set sẽ không có nhân bản của phần tử, mỗi phần tử chỉ xuất hiện 1 lần"
      ],
      "metadata": {
        "id": "39bLxDAT6tLg"
      }
    },
    {
      "cell_type": "code",
      "source": [
        "# No duplication\n",
        "animals = {\"cat\", \"dog\", \"tiger\"}\n",
        "print(animals)\n",
        "\n",
        "animals.add(\"cat\")\n",
        "print(animals)"
      ],
      "metadata": {
        "colab": {
          "base_uri": "https://localhost:8080/"
        },
        "id": "dRMSBU6J7DEl",
        "outputId": "22241231-591b-451e-c70d-71252f5a9147"
      },
      "execution_count": 3,
      "outputs": [
        {
          "output_type": "stream",
          "name": "stdout",
          "text": [
            "{'dog', 'tiger', 'cat'}\n",
            "{'dog', 'tiger', 'cat'}\n"
          ]
        }
      ]
    },
    {
      "cell_type": "markdown",
      "source": [
        "Sử dụng hàm copy để copy một set thay vì phải dùng thư viện `copy` như `tuple`"
      ],
      "metadata": {
        "id": "REJCo4O77LR5"
      }
    },
    {
      "cell_type": "code",
      "source": [
        "# copy\n",
        "animals = {\"cat\", \"dog\", \"tiger\"}\n",
        "print(\"Animals:\", animals)\n",
        "\n",
        "a_copy = animals.copy()\n",
        "print(\"Copy:\", a_copy)"
      ],
      "metadata": {
        "colab": {
          "base_uri": "https://localhost:8080/"
        },
        "id": "O0mwqJbo7Hup",
        "outputId": "025257a9-31b4-4fbc-91c8-90b82b5cac45"
      },
      "execution_count": 4,
      "outputs": [
        {
          "output_type": "stream",
          "name": "stdout",
          "text": [
            "Animals: {'dog', 'tiger', 'cat'}\n",
            "Copy: {'dog', 'tiger', 'cat'}\n"
          ]
        }
      ]
    },
    {
      "cell_type": "markdown",
      "source": [
        "Duyệt qua các phần tử trong `set` sử dụng vòng lặp `for`"
      ],
      "metadata": {
        "id": "tQKCkLe37aQk"
      }
    },
    {
      "cell_type": "code",
      "source": [
        "# accessing items\n",
        "animals = {\"cat\", \"dog\", \"tiger\"}\n",
        "for animal in animals:\n",
        "    print(animal)"
      ],
      "metadata": {
        "colab": {
          "base_uri": "https://localhost:8080/"
        },
        "id": "zcHMJ0x87XCs",
        "outputId": "b18c678e-08cd-4cd0-9c18-3d1d026ae867"
      },
      "execution_count": 5,
      "outputs": [
        {
          "output_type": "stream",
          "name": "stdout",
          "text": [
            "dog\n",
            "tiger\n",
            "cat\n"
          ]
        }
      ]
    },
    {
      "cell_type": "markdown",
      "source": [
        "`set` không hỗ trợ truy vấn chỉ mục (`index`) vì các phần tử trong set sắp xếp một cách ngẫu nhiên"
      ],
      "metadata": {
        "id": "yUNlXt5N7iOU"
      }
    },
    {
      "cell_type": "code",
      "source": [
        "# not support indexing\n",
        "animals = {\"cat\", \"dog\", \"tiger\"}\n",
        "print(animals[1])"
      ],
      "metadata": {
        "colab": {
          "base_uri": "https://localhost:8080/",
          "height": 182
        },
        "id": "eqgy6BBT7uCG",
        "outputId": "f8ffd370-84a3-4d53-acba-1e18b0a8e4e1"
      },
      "execution_count": 6,
      "outputs": [
        {
          "output_type": "error",
          "ename": "TypeError",
          "evalue": "'set' object is not subscriptable",
          "traceback": [
            "\u001b[0;31m---------------------------------------------------------------------------\u001b[0m",
            "\u001b[0;31mTypeError\u001b[0m                                 Traceback (most recent call last)",
            "\u001b[0;32m<ipython-input-6-a1b489f88deb>\u001b[0m in \u001b[0;36m<cell line: 3>\u001b[0;34m()\u001b[0m\n\u001b[1;32m      1\u001b[0m \u001b[0;31m# not support indexing\u001b[0m\u001b[0;34m\u001b[0m\u001b[0;34m\u001b[0m\u001b[0m\n\u001b[1;32m      2\u001b[0m \u001b[0manimals\u001b[0m \u001b[0;34m=\u001b[0m \u001b[0;34m{\u001b[0m\u001b[0;34m\"cat\"\u001b[0m\u001b[0;34m,\u001b[0m \u001b[0;34m\"dog\"\u001b[0m\u001b[0;34m,\u001b[0m \u001b[0;34m\"tiger\"\u001b[0m\u001b[0;34m}\u001b[0m\u001b[0;34m\u001b[0m\u001b[0;34m\u001b[0m\u001b[0m\n\u001b[0;32m----> 3\u001b[0;31m \u001b[0mprint\u001b[0m\u001b[0;34m(\u001b[0m\u001b[0manimals\u001b[0m\u001b[0;34m[\u001b[0m\u001b[0;36m1\u001b[0m\u001b[0;34m]\u001b[0m\u001b[0;34m)\u001b[0m\u001b[0;34m\u001b[0m\u001b[0;34m\u001b[0m\u001b[0m\n\u001b[0m",
            "\u001b[0;31mTypeError\u001b[0m: 'set' object is not subscriptable"
          ]
        }
      ]
    },
    {
      "cell_type": "markdown",
      "source": [
        "#### Các phương thức cơ bản"
      ],
      "metadata": {
        "id": "jSJd85gN-ieb"
      }
    },
    {
      "cell_type": "markdown",
      "source": [
        "Thêm một phần tử sử dụng phương thức `add()`"
      ],
      "metadata": {
        "id": "TkLsuoMV7ttV"
      }
    },
    {
      "cell_type": "code",
      "source": [
        "# add an item\n",
        "animals = {\"cat\", \"dog\", \"tiger\"}\n",
        "animals.add(\"bear\")\n",
        "print(animals)"
      ],
      "metadata": {
        "colab": {
          "base_uri": "https://localhost:8080/"
        },
        "id": "m2T5c7gh7yqc",
        "outputId": "7fe3c562-8802-409f-bf6f-2652d7aa6693"
      },
      "execution_count": 7,
      "outputs": [
        {
          "output_type": "stream",
          "name": "stdout",
          "text": [
            "{'dog', 'bear', 'tiger', 'cat'}\n"
          ]
        }
      ]
    },
    {
      "cell_type": "markdown",
      "source": [
        "Cập nhật `set` với việc bổ sung từ set khác qua hàm `update()`"
      ],
      "metadata": {
        "id": "0ILVXkJV8A0c"
      }
    },
    {
      "cell_type": "code",
      "source": [
        "# insert a set to another set\n",
        "animals = {\"cat\", \"dog\", \"tiger\"}\n",
        "animals.update({\"chicken\",\"Duck\"})\n",
        "print(animals)"
      ],
      "metadata": {
        "colab": {
          "base_uri": "https://localhost:8080/"
        },
        "id": "rS8P5Ys08Jvj",
        "outputId": "2a3fb961-8ab4-4ebd-944d-d486e86f0a37"
      },
      "execution_count": 8,
      "outputs": [
        {
          "output_type": "stream",
          "name": "stdout",
          "text": [
            "{'dog', 'cat', 'chicken', 'Duck', 'tiger'}\n"
          ]
        }
      ]
    },
    {
      "cell_type": "markdown",
      "source": [
        "Gộp 2 set với nhau thông qua phương thức `union()`"
      ],
      "metadata": {
        "id": "7sQ-B2At8RDQ"
      }
    },
    {
      "cell_type": "code",
      "source": [
        "set1 = {\"cat\", \"dog\"}\n",
        "set2 = {\"duck\", \"tiger\"}\n",
        "\n",
        "set3 = set1.union(set2)\n",
        "print(set3)"
      ],
      "metadata": {
        "colab": {
          "base_uri": "https://localhost:8080/"
        },
        "id": "gGMSSBZ28PXZ",
        "outputId": "9c54b7b6-a0f9-48fc-ee00-3d9f60ea5221"
      },
      "execution_count": 9,
      "outputs": [
        {
          "output_type": "stream",
          "name": "stdout",
          "text": [
            "{'duck', 'dog', 'tiger', 'cat'}\n"
          ]
        }
      ]
    },
    {
      "cell_type": "markdown",
      "source": [
        "#### Loại bỏ phần tử trong set"
      ],
      "metadata": {
        "id": "biz8-6Nc-W3L"
      }
    },
    {
      "cell_type": "markdown",
      "source": [
        "Loại bỏ một phần tử sử dụng phương thức `remove()`. Nếu phần tử không tồn tại, ngoại lệ `KeyError` sẽ được thả ra"
      ],
      "metadata": {
        "id": "QnWugMx_8ZUk"
      }
    },
    {
      "cell_type": "code",
      "source": [
        "# remove an item\n",
        "animals = {\"cat\", \"dog\", \"tiger\"}\n",
        "animals.remove(\"dog\")\n",
        "print(animals)"
      ],
      "metadata": {
        "colab": {
          "base_uri": "https://localhost:8080/"
        },
        "id": "XJScNtW18llP",
        "outputId": "b04c2bf6-3611-4a7a-8924-af5313cbee64"
      },
      "execution_count": 10,
      "outputs": [
        {
          "output_type": "stream",
          "name": "stdout",
          "text": [
            "{'tiger', 'cat'}\n"
          ]
        }
      ]
    },
    {
      "cell_type": "code",
      "source": [
        "# remove an item\n",
        "animals = {\"cat\", \"dog\", \"tiger\"}\n",
        "animals.remove(\"lion\")\n",
        "print(animals)"
      ],
      "metadata": {
        "colab": {
          "base_uri": "https://localhost:8080/",
          "height": 200
        },
        "id": "IUei80Bb8yRY",
        "outputId": "aac72f3b-6d7a-45e4-f7fb-2e7de570634f"
      },
      "execution_count": 12,
      "outputs": [
        {
          "output_type": "error",
          "ename": "KeyError",
          "evalue": "'lion'",
          "traceback": [
            "\u001b[0;31m---------------------------------------------------------------------------\u001b[0m",
            "\u001b[0;31mKeyError\u001b[0m                                  Traceback (most recent call last)",
            "\u001b[0;32m<ipython-input-12-48e389748482>\u001b[0m in \u001b[0;36m<cell line: 3>\u001b[0;34m()\u001b[0m\n\u001b[1;32m      1\u001b[0m \u001b[0;31m# remove an item\u001b[0m\u001b[0;34m\u001b[0m\u001b[0;34m\u001b[0m\u001b[0m\n\u001b[1;32m      2\u001b[0m \u001b[0manimals\u001b[0m \u001b[0;34m=\u001b[0m \u001b[0;34m{\u001b[0m\u001b[0;34m\"cat\"\u001b[0m\u001b[0;34m,\u001b[0m \u001b[0;34m\"dog\"\u001b[0m\u001b[0;34m,\u001b[0m \u001b[0;34m\"tiger\"\u001b[0m\u001b[0;34m}\u001b[0m\u001b[0;34m\u001b[0m\u001b[0;34m\u001b[0m\u001b[0m\n\u001b[0;32m----> 3\u001b[0;31m \u001b[0manimals\u001b[0m\u001b[0;34m.\u001b[0m\u001b[0mremove\u001b[0m\u001b[0;34m(\u001b[0m\u001b[0;34m\"lion\"\u001b[0m\u001b[0;34m)\u001b[0m\u001b[0;34m\u001b[0m\u001b[0;34m\u001b[0m\u001b[0m\n\u001b[0m\u001b[1;32m      4\u001b[0m \u001b[0mprint\u001b[0m\u001b[0;34m(\u001b[0m\u001b[0manimals\u001b[0m\u001b[0;34m)\u001b[0m\u001b[0;34m\u001b[0m\u001b[0;34m\u001b[0m\u001b[0m\n",
            "\u001b[0;31mKeyError\u001b[0m: 'lion'"
          ]
        }
      ]
    },
    {
      "cell_type": "markdown",
      "source": [
        "Thay vì dùng phương thức `remove()`, ta có thể dùng `discard()`. Vì khi không có phần tử trong set, `discard()` sẽ bỏ qua và không báo lỗi"
      ],
      "metadata": {
        "id": "jsNbyRdt9HMF"
      }
    },
    {
      "cell_type": "code",
      "source": [
        "# remove an item\n",
        "animals = {\"cat\", \"dog\", \"tiger\"}\n",
        "animals.discard(\"lion\")\n",
        "print(animals)"
      ],
      "metadata": {
        "colab": {
          "base_uri": "https://localhost:8080/"
        },
        "id": "BQhlRCWy9Wb1",
        "outputId": "d409181b-b0fc-4abe-e089-33f7b4ef79b1"
      },
      "execution_count": 13,
      "outputs": [
        {
          "output_type": "stream",
          "name": "stdout",
          "text": [
            "{'dog', 'tiger', 'cat'}\n"
          ]
        }
      ]
    },
    {
      "cell_type": "code",
      "source": [
        "# remove an item\n",
        "animals = {\"cat\", \"dog\", \"tiger\"}\n",
        "animals.discard(\"tiger\")\n",
        "print(animals)"
      ],
      "metadata": {
        "colab": {
          "base_uri": "https://localhost:8080/"
        },
        "id": "TeVqpc0u9XSA",
        "outputId": "204a3416-9e3c-483e-e0aa-8a7945778cc5"
      },
      "execution_count": 14,
      "outputs": [
        {
          "output_type": "stream",
          "name": "stdout",
          "text": [
            "{'dog', 'cat'}\n"
          ]
        }
      ]
    },
    {
      "cell_type": "markdown",
      "source": [
        "#### Set không chấp nhận kiểu dữ liệu có thể thay đổi (mutable)"
      ],
      "metadata": {
        "id": "HQuQy1F99xUG"
      }
    },
    {
      "cell_type": "code",
      "source": [
        "a_list = [1, 2, 3]\n",
        "a_set  = {\"cat\", a_list}\n",
        "print(a_set)"
      ],
      "metadata": {
        "colab": {
          "base_uri": "https://localhost:8080/",
          "height": 182
        },
        "id": "0ENI2ac_9lVG",
        "outputId": "4274d125-b76d-4c1c-f994-97c33960ef6f"
      },
      "execution_count": 15,
      "outputs": [
        {
          "output_type": "error",
          "ename": "TypeError",
          "evalue": "unhashable type: 'list'",
          "traceback": [
            "\u001b[0;31m---------------------------------------------------------------------------\u001b[0m",
            "\u001b[0;31mTypeError\u001b[0m                                 Traceback (most recent call last)",
            "\u001b[0;32m<ipython-input-15-20b43b9758bc>\u001b[0m in \u001b[0;36m<cell line: 2>\u001b[0;34m()\u001b[0m\n\u001b[1;32m      1\u001b[0m \u001b[0ma_list\u001b[0m \u001b[0;34m=\u001b[0m \u001b[0;34m[\u001b[0m\u001b[0;36m1\u001b[0m\u001b[0;34m,\u001b[0m \u001b[0;36m2\u001b[0m\u001b[0;34m,\u001b[0m \u001b[0;36m3\u001b[0m\u001b[0;34m]\u001b[0m\u001b[0;34m\u001b[0m\u001b[0;34m\u001b[0m\u001b[0m\n\u001b[0;32m----> 2\u001b[0;31m \u001b[0ma_set\u001b[0m  \u001b[0;34m=\u001b[0m \u001b[0;34m{\u001b[0m\u001b[0;34m\"cat\"\u001b[0m\u001b[0;34m,\u001b[0m \u001b[0ma_list\u001b[0m\u001b[0;34m}\u001b[0m\u001b[0;34m\u001b[0m\u001b[0;34m\u001b[0m\u001b[0m\n\u001b[0m\u001b[1;32m      3\u001b[0m \u001b[0mprint\u001b[0m\u001b[0;34m(\u001b[0m\u001b[0ma_set\u001b[0m\u001b[0;34m)\u001b[0m\u001b[0;34m\u001b[0m\u001b[0;34m\u001b[0m\u001b[0m\n",
            "\u001b[0;31mTypeError\u001b[0m: unhashable type: 'list'"
          ]
        }
      ]
    },
    {
      "cell_type": "markdown",
      "source": [
        "Ở đây, list là kiểu mutable nên set sẽ không chấp nhận"
      ],
      "metadata": {
        "id": "VKB3nZe19_RS"
      }
    },
    {
      "cell_type": "markdown",
      "source": [
        "#### Tìm các phần tử khác nhau trong set\n",
        "Sử dụng phương thức `difference()` để tìm các phần tử khác nhau trong 2 set"
      ],
      "metadata": {
        "id": "iTXMa3VF-KNX"
      }
    },
    {
      "cell_type": "code",
      "source": [
        "# difference\n",
        "\n",
        "set1 = {\"apple\", \"banana\", \"cherry\"}\n",
        "set2 = {\"pineapple\", \"apple\"}\n",
        "\n",
        "set3 = set1.difference(set2)\n",
        "\n",
        "print(set3)"
      ],
      "metadata": {
        "colab": {
          "base_uri": "https://localhost:8080/"
        },
        "id": "vAruImKs97OC",
        "outputId": "2fe1c07d-01c3-4605-e13b-0dccda9b500f"
      },
      "execution_count": 16,
      "outputs": [
        {
          "output_type": "stream",
          "name": "stdout",
          "text": [
            "{'banana', 'cherry'}\n"
          ]
        }
      ]
    },
    {
      "cell_type": "markdown",
      "source": [
        "Cập nhật các phần tử không có trong 1 set ở set còn lại bằng `difference_update()`"
      ],
      "metadata": {
        "id": "9N9SqHyH_FW7"
      }
    },
    {
      "cell_type": "code",
      "source": [
        "set1 = {\"apple\", \"banana\", \"cherry\"}\n",
        "set2 = {\"pineapple\", \"apple\"}\n",
        "\n",
        "set1.difference_update(set2)\n",
        "\n",
        "print(set1)"
      ],
      "metadata": {
        "colab": {
          "base_uri": "https://localhost:8080/"
        },
        "id": "GErEseuW_CoA",
        "outputId": "83549a6f-c3c6-4275-96c1-28bad3afc753"
      },
      "execution_count": 17,
      "outputs": [
        {
          "output_type": "stream",
          "name": "stdout",
          "text": [
            "{'banana', 'cherry'}\n"
          ]
        }
      ]
    },
    {
      "cell_type": "markdown",
      "source": [
        "Phương thức `id()` lấy id của một đối tượng"
      ],
      "metadata": {
        "id": "p5mK022x_QvU"
      }
    },
    {
      "cell_type": "code",
      "source": [
        "set1 = {\"apple\", \"banana\", \"cherry\"}\n",
        "set2 = {\"pineapple\", \"apple\"}\n",
        "\n",
        "print(id(set1))\n",
        "set1.difference_update(set2)\n",
        "\n",
        "print(set1)\n",
        "print(id(set1))"
      ],
      "metadata": {
        "colab": {
          "base_uri": "https://localhost:8080/"
        },
        "id": "2Z5Av5ts_TWT",
        "outputId": "449f8bee-2e2e-46f9-9647-41a444dd214b"
      },
      "execution_count": 18,
      "outputs": [
        {
          "output_type": "stream",
          "name": "stdout",
          "text": [
            "135402304895712\n",
            "{'banana', 'cherry'}\n",
            "135402304895712\n"
          ]
        }
      ]
    },
    {
      "cell_type": "markdown",
      "source": [
        "Ta thấy rằng id không thay đổi, tức là phương thức `difference_update(set2)` thực hiện trực tiếp trên `set1` với việc loại bỏ khỏi set1 những phần tử có trong `set2`"
      ],
      "metadata": {
        "id": "JhI3y6vM_2bJ"
      }
    },
    {
      "cell_type": "markdown",
      "source": [
        "Phương thức `symmetric_difference()` trả về một tập hợp chứa các phần tử không phổ biến (không trùng nhau) giữa hai đối tượng. Nó tương đương với việc thực hiện phép toán(xor) trên hai tập hợp"
      ],
      "metadata": {
        "id": "PWKj6lskANiC"
      }
    },
    {
      "cell_type": "code",
      "source": [
        "# symmetric_difference\n",
        "\n",
        "set1 = {\"apple\", \"banana\", \"cherry\"}\n",
        "set2 = {\"pineapple\", \"apple\"}\n",
        "\n",
        "set3 = set1.symmetric_difference(set2)\n",
        "\n",
        "print(set3)"
      ],
      "metadata": {
        "colab": {
          "base_uri": "https://localhost:8080/"
        },
        "id": "P_pnC2JEASLO",
        "outputId": "6db3963c-d673-4a8f-f58c-ac5203e1643c"
      },
      "execution_count": 19,
      "outputs": [
        {
          "output_type": "stream",
          "name": "stdout",
          "text": [
            "{'pineapple', 'banana', 'cherry'}\n"
          ]
        }
      ]
    },
    {
      "cell_type": "markdown",
      "source": [
        "Phương thức `symmetric_difference_update()` thực hiện việc cập nhật set, bằng cách loại bỏ các phần tử chung và thêm vào các phần tử không trùng giữa hai tập hợp"
      ],
      "metadata": {
        "id": "DzaIbqK7AqtH"
      }
    },
    {
      "cell_type": "code",
      "source": [
        "# symmetric_difference_update\n",
        "\n",
        "set1 = {\"apple\", \"banana\", \"cherry\"}\n",
        "set2 = {\"pineapple\", \"apple\"}\n",
        "\n",
        "set1.symmetric_difference_update(set2)\n",
        "\n",
        "print(set1)"
      ],
      "metadata": {
        "colab": {
          "base_uri": "https://localhost:8080/"
        },
        "id": "X2vF3pz3At_d",
        "outputId": "119669f8-acf8-47ac-e502-3b4e79029f8a"
      },
      "execution_count": 20,
      "outputs": [
        {
          "output_type": "stream",
          "name": "stdout",
          "text": [
            "{'pineapple', 'banana', 'cherry'}\n"
          ]
        }
      ]
    },
    {
      "cell_type": "markdown",
      "source": [
        "#### AND, OR, XOR, SUBTRACTION"
      ],
      "metadata": {
        "id": "sPuswHWoBSQM"
      }
    },
    {
      "cell_type": "markdown",
      "source": [
        "Phép AND(&) trong set trả về những phần tử trùng nhau"
      ],
      "metadata": {
        "id": "LbyuBijhBiDv"
      }
    },
    {
      "cell_type": "code",
      "source": [
        "set1 = {1, 2, 3}\n",
        "set2 = {3, 4, 5}\n",
        "\n",
        "print(set1 & set2)"
      ],
      "metadata": {
        "colab": {
          "base_uri": "https://localhost:8080/"
        },
        "id": "EK17wQqYBSgP",
        "outputId": "fa61e310-9a8b-4125-c68b-c6c43c15974d"
      },
      "execution_count": 21,
      "outputs": [
        {
          "output_type": "stream",
          "name": "stdout",
          "text": [
            "{3}\n"
          ]
        }
      ]
    },
    {
      "cell_type": "markdown",
      "source": [
        "Phép OR(|) lấy tất cả các phần tử thuộc các set"
      ],
      "metadata": {
        "id": "8FThvDniB7y1"
      }
    },
    {
      "cell_type": "code",
      "source": [
        "set1 = {1, 2, 3}\n",
        "set2 = {3, 4, 5}\n",
        "\n",
        "print(set1 | set2)"
      ],
      "metadata": {
        "colab": {
          "base_uri": "https://localhost:8080/"
        },
        "id": "oTs_tApMBpc6",
        "outputId": "f894ec84-182b-4f88-f689-78cf8b6ef271"
      },
      "execution_count": 22,
      "outputs": [
        {
          "output_type": "stream",
          "name": "stdout",
          "text": [
            "{1, 2, 3, 4, 5}\n"
          ]
        }
      ]
    },
    {
      "cell_type": "markdown",
      "source": [
        "Phép XOR(^) trả về những phần tử chỉ thuộc về 1 set nhưng không thuộc cả 2"
      ],
      "metadata": {
        "id": "MUoPMrNzCC8C"
      }
    },
    {
      "cell_type": "code",
      "source": [
        "set1 = {1, 2, 3}\n",
        "set2 = {3, 4, 5}\n",
        "\n",
        "print(set1 ^ set2)"
      ],
      "metadata": {
        "colab": {
          "base_uri": "https://localhost:8080/"
        },
        "id": "koTSi-CNCHEC",
        "outputId": "5d41e70e-6f7f-4c2e-8496-fbd472de9d95"
      },
      "execution_count": 23,
      "outputs": [
        {
          "output_type": "stream",
          "name": "stdout",
          "text": [
            "{1, 2, 4, 5}\n"
          ]
        }
      ]
    },
    {
      "cell_type": "markdown",
      "source": [
        "SUBTRACTION(-) loại bỏ các phần tử xuất hiện trong set2 của set1. Tức là chỉ lấy các phần tử thuộc set1 nhưng không thuộc set2"
      ],
      "metadata": {
        "id": "gFun16iYCaWa"
      }
    },
    {
      "cell_type": "code",
      "source": [
        "set1 = {1, 2, 3}\n",
        "set2 = {3, 4, 5}\n",
        "\n",
        "print(set1 - set2)"
      ],
      "metadata": {
        "colab": {
          "base_uri": "https://localhost:8080/"
        },
        "id": "bBbiqePaCcgW",
        "outputId": "85392a33-2c23-4e1f-86f7-11598cf8696d"
      },
      "execution_count": 24,
      "outputs": [
        {
          "output_type": "stream",
          "name": "stdout",
          "text": [
            "{1, 2}\n"
          ]
        }
      ]
    },
    {
      "cell_type": "markdown",
      "source": [
        "#### Set comprehension\n",
        "Sử dụng set comprehension để tạo một set dựa trên một biểu thức và một vòng lặp\n",
        "\n",
        "VD: tạo một set chứa bình phương các số từ 0 đến 9"
      ],
      "metadata": {
        "id": "9H87uCF1DYST"
      }
    },
    {
      "cell_type": "code",
      "source": [
        "# set comprehension\n",
        "\n",
        "aSet = {i*i for i in range(10)}\n",
        "print(aSet)"
      ],
      "metadata": {
        "colab": {
          "base_uri": "https://localhost:8080/"
        },
        "id": "tGjHthFMC8TN",
        "outputId": "57281410-0b85-4ad1-a417-9033a4512433"
      },
      "execution_count": 26,
      "outputs": [
        {
          "output_type": "stream",
          "name": "stdout",
          "text": [
            "{0, 1, 64, 4, 36, 9, 16, 49, 81, 25}\n"
          ]
        }
      ]
    },
    {
      "cell_type": "markdown",
      "source": [
        "#### Convert\n",
        "Ta có thể chuyển đổi qua lại giữa các kiểu dữ liệu bằng cách ép kiểu"
      ],
      "metadata": {
        "id": "0mW9eq-iDucn"
      }
    },
    {
      "cell_type": "code",
      "source": [
        "# convert from set to list\n",
        "aSet = {1, 2, 3, 4, 5}\n",
        "\n",
        "aList = list(aSet)\n",
        "print(aList)\n",
        "print(type(aList))"
      ],
      "metadata": {
        "colab": {
          "base_uri": "https://localhost:8080/"
        },
        "id": "Z-CEOhFfDwH7",
        "outputId": "b0ae14cd-7628-409f-bdfa-e1410c87dbf4"
      },
      "execution_count": 27,
      "outputs": [
        {
          "output_type": "stream",
          "name": "stdout",
          "text": [
            "[1, 2, 3, 4, 5]\n",
            "<class 'list'>\n"
          ]
        }
      ]
    },
    {
      "cell_type": "code",
      "source": [
        "# convert from set to tuple\n",
        "aSet = {1, 2, 3, 4, 5}\n",
        "\n",
        "aTuple = tuple(aSet)\n",
        "print(aTuple)\n",
        "print(type(aTuple))"
      ],
      "metadata": {
        "colab": {
          "base_uri": "https://localhost:8080/"
        },
        "id": "Pu6RTl39D0M7",
        "outputId": "753a3a20-f63c-4fcb-a7ca-02fb03d5f55f"
      },
      "execution_count": 28,
      "outputs": [
        {
          "output_type": "stream",
          "name": "stdout",
          "text": [
            "(1, 2, 3, 4, 5)\n",
            "<class 'tuple'>\n"
          ]
        }
      ]
    },
    {
      "cell_type": "code",
      "source": [
        "# convert from list to set\n",
        "aList = [1, 2, 3, 2, 1]\n",
        "\n",
        "aSet = set(aList)\n",
        "print(aSet)\n",
        "print(type(aSet))"
      ],
      "metadata": {
        "colab": {
          "base_uri": "https://localhost:8080/"
        },
        "id": "G7PgP4bND2O1",
        "outputId": "c2dea14c-7d07-4563-e7de-0af2039fbc47"
      },
      "execution_count": 29,
      "outputs": [
        {
          "output_type": "stream",
          "name": "stdout",
          "text": [
            "{1, 2, 3}\n",
            "<class 'set'>\n"
          ]
        }
      ]
    },
    {
      "cell_type": "code",
      "source": [
        "# convert from tuple to set\n",
        "aTuple = (1, 2, 3, 2, 1)\n",
        "\n",
        "aSet = set(aTuple)\n",
        "print(aSet)\n",
        "print(type(aSet))"
      ],
      "metadata": {
        "id": "RQTAEQPsD4Qq"
      },
      "execution_count": null,
      "outputs": []
    },
    {
      "cell_type": "markdown",
      "source": [
        "# Thao tác với file\n",
        "Mở file: `open()`\n",
        "\n",
        "Đọc nội dung: `read()`\n",
        "\n",
        "Đóng file: `close()`"
      ],
      "metadata": {
        "id": "43cbRltiEIto"
      }
    },
    {
      "cell_type": "code",
      "source": [
        "# kết nối với file\n",
        "a_file = open('data.txt','r')\n",
        "\n",
        "# read content\n",
        "data = a_file.read()\n",
        "print(data)\n",
        "\n",
        "# Đóng kết nối với file\n",
        "a_file.close()"
      ],
      "metadata": {
        "colab": {
          "base_uri": "https://localhost:8080/"
        },
        "id": "Y9zwktZSD_-K",
        "outputId": "b61e2d1f-83b4-4cb9-8174-ab5b57f02c5c"
      },
      "execution_count": 30,
      "outputs": [
        {
          "output_type": "stream",
          "name": "stdout",
          "text": [
            "Python is a high-level, interpreted, general-purpose programming language. Its design philosophy emphasizes code readability with the use of significant indentation. Python is dynamically-typed and garbage-collected.  It supports multiple programming paradigms, including structured, object-oriented and functional programming.\n"
          ]
        }
      ]
    },
    {
      "cell_type": "markdown",
      "source": [
        "Thay thế các dấu chấm (.) bằng dấu phẩy (,) qua hàm `replace()`"
      ],
      "metadata": {
        "id": "PGmxN2ISEwoz"
      }
    },
    {
      "cell_type": "code",
      "source": [
        "data = data.replace('.', '')\n",
        "print(data)"
      ],
      "metadata": {
        "colab": {
          "base_uri": "https://localhost:8080/"
        },
        "id": "_WktmNRVEw0q",
        "outputId": "ec86292b-e0dd-45ba-b585-807f6b971d1a"
      },
      "execution_count": 31,
      "outputs": [
        {
          "output_type": "stream",
          "name": "stdout",
          "text": [
            "Python is a high-level, interpreted, general-purpose programming language Its design philosophy emphasizes code readability with the use of significant indentation Python is dynamically-typed and garbage-collected  It supports multiple programming paradigms, including structured, object-oriented and functional programming\n"
          ]
        }
      ]
    },
    {
      "cell_type": "markdown",
      "source": [
        "Thay thế dấu phẩy bằng dấu cách\n"
      ],
      "metadata": {
        "id": "IAGf6kTtE9xA"
      }
    },
    {
      "cell_type": "code",
      "source": [
        "data = data.replace(',', '')\n",
        "print(data)"
      ],
      "metadata": {
        "colab": {
          "base_uri": "https://localhost:8080/"
        },
        "id": "HIczj0CMFB-7",
        "outputId": "1ec9ebb3-17c0-42e8-a1ff-9994c7007ecf"
      },
      "execution_count": 32,
      "outputs": [
        {
          "output_type": "stream",
          "name": "stdout",
          "text": [
            "Python is a high-level interpreted general-purpose programming language Its design philosophy emphasizes code readability with the use of significant indentation Python is dynamically-typed and garbage-collected  It supports multiple programming paradigms including structured object-oriented and functional programming\n"
          ]
        }
      ]
    },
    {
      "cell_type": "markdown",
      "source": [
        "Thay thế dấu gạch ngang bằng dấu cách"
      ],
      "metadata": {
        "id": "KVes-XuPFFF8"
      }
    },
    {
      "cell_type": "code",
      "source": [
        "data = data.replace('-', ' ')\n",
        "print(data)"
      ],
      "metadata": {
        "colab": {
          "base_uri": "https://localhost:8080/"
        },
        "id": "-Eb1egbbFI0X",
        "outputId": "dbecf74e-d93b-4175-af73-8490f3aa3ac8"
      },
      "execution_count": 33,
      "outputs": [
        {
          "output_type": "stream",
          "name": "stdout",
          "text": [
            "Python is a high level interpreted general purpose programming language Its design philosophy emphasizes code readability with the use of significant indentation Python is dynamically typed and garbage collected  It supports multiple programming paradigms including structured object oriented and functional programming\n"
          ]
        }
      ]
    },
    {
      "cell_type": "markdown",
      "source": [
        "Chuyển đổi chữ hoa sang chữ thường dùng `lower()`"
      ],
      "metadata": {
        "id": "WauzeJuIFM9t"
      }
    },
    {
      "cell_type": "code",
      "source": [
        "data = data.lower()\n",
        "print(data)"
      ],
      "metadata": {
        "colab": {
          "base_uri": "https://localhost:8080/"
        },
        "id": "SMXOJrA7FRVT",
        "outputId": "536816f1-f4da-4792-a1d0-2f786eccf0b1"
      },
      "execution_count": 34,
      "outputs": [
        {
          "output_type": "stream",
          "name": "stdout",
          "text": [
            "python is a high level interpreted general purpose programming language its design philosophy emphasizes code readability with the use of significant indentation python is dynamically typed and garbage collected  it supports multiple programming paradigms including structured object oriented and functional programming\n"
          ]
        }
      ]
    },
    {
      "cell_type": "markdown",
      "source": [
        "Tách chuỗi thành list các chuỗi con, mặc định tách theo dấu cách"
      ],
      "metadata": {
        "id": "XStr0tcBFUbB"
      }
    },
    {
      "cell_type": "code",
      "source": [
        "data = data.split()\n",
        "print(data)\n",
        "print(len(data))"
      ],
      "metadata": {
        "colab": {
          "base_uri": "https://localhost:8080/"
        },
        "id": "GZW0VFU7Fcdr",
        "outputId": "adfe053b-7a91-4d97-b51f-c67117680e61"
      },
      "execution_count": 35,
      "outputs": [
        {
          "output_type": "stream",
          "name": "stdout",
          "text": [
            "['python', 'is', 'a', 'high', 'level', 'interpreted', 'general', 'purpose', 'programming', 'language', 'its', 'design', 'philosophy', 'emphasizes', 'code', 'readability', 'with', 'the', 'use', 'of', 'significant', 'indentation', 'python', 'is', 'dynamically', 'typed', 'and', 'garbage', 'collected', 'it', 'supports', 'multiple', 'programming', 'paradigms', 'including', 'structured', 'object', 'oriented', 'and', 'functional', 'programming']\n",
            "41\n"
          ]
        }
      ]
    },
    {
      "cell_type": "markdown",
      "source": [
        "Trả về các chuỗi duy nhất, các chuỗi lặp lại sẽ chỉ xuất hiện 1 lần"
      ],
      "metadata": {
        "id": "ntrmpO5GFjRP"
      }
    },
    {
      "cell_type": "code",
      "source": [
        "data = set(data)\n",
        "print(data)\n",
        "print(len(data))"
      ],
      "metadata": {
        "colab": {
          "base_uri": "https://localhost:8080/"
        },
        "id": "6TKO18M3FjBf",
        "outputId": "ea8d95bd-f94c-46fc-f4f3-961943f05cf2"
      },
      "execution_count": 36,
      "outputs": [
        {
          "output_type": "stream",
          "name": "stdout",
          "text": [
            "{'code', 'including', 'python', 'a', 'general', 'high', 'language', 'readability', 'paradigms', 'design', 'use', 'functional', 'garbage', 'its', 'philosophy', 'of', 'emphasizes', 'multiple', 'with', 'dynamically', 'programming', 'level', 'significant', 'the', 'structured', 'collected', 'purpose', 'is', 'typed', 'supports', 'indentation', 'it', 'oriented', 'object', 'and', 'interpreted'}\n",
            "36\n"
          ]
        }
      ]
    },
    {
      "cell_type": "markdown",
      "source": [
        "Khởi tạo enumerate và in ra index cùng giá trị của nó\n",
        "\n",
        "enumerate cung cấp một bộ đếm vào iterable và trả chúng dưới dạng đối tượng liệt kê"
      ],
      "metadata": {
        "id": "oiqzcYNxFtkD"
      }
    },
    {
      "cell_type": "code",
      "source": [
        "for index, value in enumerate(data):\n",
        "    print(index, value)"
      ],
      "metadata": {
        "colab": {
          "base_uri": "https://localhost:8080/"
        },
        "id": "X4kNQQgqFz_s",
        "outputId": "fec37fce-670a-42da-a8a4-deca6a7c6a4c"
      },
      "execution_count": 37,
      "outputs": [
        {
          "output_type": "stream",
          "name": "stdout",
          "text": [
            "0 code\n",
            "1 including\n",
            "2 python\n",
            "3 a\n",
            "4 general\n",
            "5 high\n",
            "6 language\n",
            "7 readability\n",
            "8 paradigms\n",
            "9 design\n",
            "10 use\n",
            "11 functional\n",
            "12 garbage\n",
            "13 its\n",
            "14 philosophy\n",
            "15 of\n",
            "16 emphasizes\n",
            "17 multiple\n",
            "18 with\n",
            "19 dynamically\n",
            "20 programming\n",
            "21 level\n",
            "22 significant\n",
            "23 the\n",
            "24 structured\n",
            "25 collected\n",
            "26 purpose\n",
            "27 is\n",
            "28 typed\n",
            "29 supports\n",
            "30 indentation\n",
            "31 it\n",
            "32 oriented\n",
            "33 object\n",
            "34 and\n",
            "35 interpreted\n"
          ]
        }
      ]
    }
  ]
}