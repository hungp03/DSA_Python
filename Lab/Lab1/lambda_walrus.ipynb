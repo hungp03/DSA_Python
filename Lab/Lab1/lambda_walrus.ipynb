{
  "cells": [
    {
      "cell_type": "markdown",
      "id": "1bf0441c",
      "metadata": {
        "id": "1bf0441c"
      },
      "source": [
        "## Walrus"
      ]
    },
    {
      "cell_type": "markdown",
      "source": [
        "Trả về kết quả boolean"
      ],
      "metadata": {
        "id": "n_uS2Q7JuJa5"
      },
      "id": "n_uS2Q7JuJa5"
    },
    {
      "cell_type": "code",
      "execution_count": 1,
      "id": "334804f8",
      "metadata": {
        "colab": {
          "base_uri": "https://localhost:8080/"
        },
        "id": "334804f8",
        "outputId": "361c8052-71c3-42fc-e778-c9d047c7e391"
      },
      "outputs": [
        {
          "output_type": "stream",
          "name": "stdout",
          "text": [
            "True\n"
          ]
        }
      ],
      "source": [
        "is_new = True\n",
        "print(is_new)"
      ]
    },
    {
      "cell_type": "markdown",
      "source": [
        "Từ Python 3.8 có thể gắn Walrus operator để gán giá trị cho biến và đồng thời in ra giá trị đó trong cùng một câu lệnh"
      ],
      "metadata": {
        "id": "XJVKCf5luXXi"
      },
      "id": "XJVKCf5luXXi"
    },
    {
      "cell_type": "code",
      "execution_count": 2,
      "id": "bd0b659a",
      "metadata": {
        "colab": {
          "base_uri": "https://localhost:8080/"
        },
        "id": "bd0b659a",
        "outputId": "42236ef7-3a85-4fd1-c7b4-b2b05bca7a1d"
      },
      "outputs": [
        {
          "output_type": "stream",
          "name": "stdout",
          "text": [
            "True\n"
          ]
        }
      ],
      "source": [
        "print(is_new := True)"
      ]
    },
    {
      "cell_type": "markdown",
      "source": [
        "Sử dụng biểu thức gán (walrus operator :=) để gán độ dài của từ word cho biến n trong điều kiện của câu lệnh if.\n",
        "\n",
        "Vòng lặp for duyệt qua từng từ trong danh sách words.\n",
        "Trong mỗi vòng lặp, biểu thức n := len(word) gán độ dài của từ word cho biến n và đồng thời trả về giá trị của n. Điều này cho phép ta sử dụng giá trị của n trong cùng một biểu thức điều kiện.\n",
        "Nếu độ dài của từ word nhỏ hơn 3, câu lệnh print() sẽ in ra một cảnh báo với tên từ và độ dài của nó."
      ],
      "metadata": {
        "id": "9iCipfgVuoKB"
      },
      "id": "9iCipfgVuoKB"
    },
    {
      "cell_type": "code",
      "execution_count": 3,
      "id": "023f33b5",
      "metadata": {
        "colab": {
          "base_uri": "https://localhost:8080/"
        },
        "id": "023f33b5",
        "outputId": "0da51f53-fb92-4540-b89b-cdce7395dfbc"
      },
      "outputs": [
        {
          "output_type": "stream",
          "name": "stdout",
          "text": [
            "warning, the word ab has 2 characters\n",
            "warning, the word a has 1 characters\n"
          ]
        }
      ],
      "source": [
        "words = ['falcon', 'sky', 'ab', 'water', 'a', 'forest']\n",
        "\n",
        "for word in words:\n",
        "    if ((n := len(word)) < 3):\n",
        "        print(f'warning, the word {word} has {n} characters')"
      ]
    },
    {
      "cell_type": "markdown",
      "id": "334902a3",
      "metadata": {
        "id": "334902a3"
      },
      "source": [
        "## type hints"
      ]
    },
    {
      "cell_type": "markdown",
      "source": [
        "Đoạn mã này định nghĩa một hàm có tên là say_hi nhận một tham số name, sau đó trả về một xâu kết quả chứa lời chào Hi kèm theo tên được truyền vào.\n",
        "\n",
        "Hàm say_hi(name) nhận một tham số name.\n",
        "Trong hàm, biểu thức f-string f'Hi {name}' được sử dụng để tạo ra xâu chứa lời chào Hi kèm theo tên name."
      ],
      "metadata": {
        "id": "YHXJ9Thru2_a"
      },
      "id": "YHXJ9Thru2_a"
    },
    {
      "cell_type": "code",
      "execution_count": 4,
      "id": "32bf979f",
      "metadata": {
        "colab": {
          "base_uri": "https://localhost:8080/"
        },
        "id": "32bf979f",
        "outputId": "f428a343-347f-4a19-8eac-5636311f530e"
      },
      "outputs": [
        {
          "output_type": "stream",
          "name": "stdout",
          "text": [
            "Hi John\n"
          ]
        }
      ],
      "source": [
        "def say_hi(name):\n",
        "    return f'Hi {name}'\n",
        "\n",
        "greeting = say_hi('John')\n",
        "print(greeting)"
      ]
    },
    {
      "cell_type": "markdown",
      "source": [
        "Tương tự như trên"
      ],
      "metadata": {
        "id": "JhHQM13uu7Fq"
      },
      "id": "JhHQM13uu7Fq"
    },
    {
      "cell_type": "code",
      "execution_count": 5,
      "id": "e80b2300",
      "metadata": {
        "colab": {
          "base_uri": "https://localhost:8080/"
        },
        "id": "e80b2300",
        "outputId": "342906c1-f3f7-43b9-de62-c7486a6a303f"
      },
      "outputs": [
        {
          "output_type": "stream",
          "name": "stdout",
          "text": [
            "<class 'str'>\n",
            "Hi John\n",
            "<class 'int'>\n",
            "Hi 123\n"
          ]
        }
      ],
      "source": [
        "def say_hi(name: str) -> str:\n",
        "    print(type(name))\n",
        "    return f'Hi {name}'\n",
        "\n",
        "greeting = say_hi('John')\n",
        "print(greeting)\n",
        "\n",
        "greeting = say_hi(123)\n",
        "print(greeting)"
      ]
    },
    {
      "cell_type": "markdown",
      "id": "bb46c203",
      "metadata": {
        "id": "bb46c203"
      },
      "source": [
        "## Lambda"
      ]
    },
    {
      "cell_type": "markdown",
      "source": [
        "định nghĩa một hàm lambda (hàm vô danh) có một tham số a, và trả về giá trị của biểu thức a + 10."
      ],
      "metadata": {
        "id": "XhLV3k_qvEZB"
      },
      "id": "XhLV3k_qvEZB"
    },
    {
      "cell_type": "code",
      "execution_count": 6,
      "id": "4d0c366d",
      "metadata": {
        "colab": {
          "base_uri": "https://localhost:8080/"
        },
        "id": "4d0c366d",
        "outputId": "eca6cf5d-b661-490f-b247-8d1ba6f7cc1c"
      },
      "outputs": [
        {
          "output_type": "stream",
          "name": "stdout",
          "text": [
            "15\n"
          ]
        }
      ],
      "source": [
        "# lambda arguments : expression\n",
        "\n",
        "x = lambda a : a + 10\n",
        "print(x(5))"
      ]
    },
    {
      "cell_type": "markdown",
      "source": [
        "hàm vô danh trả về kết quả a * b của 2 biến a,b"
      ],
      "metadata": {
        "id": "wFfLHxaUvHVi"
      },
      "id": "wFfLHxaUvHVi"
    },
    {
      "cell_type": "code",
      "execution_count": 7,
      "id": "f095b201",
      "metadata": {
        "colab": {
          "base_uri": "https://localhost:8080/"
        },
        "id": "f095b201",
        "outputId": "6c43cb76-58a4-428e-d758-796a25f1b06b"
      },
      "outputs": [
        {
          "output_type": "stream",
          "name": "stdout",
          "text": [
            "30\n"
          ]
        }
      ],
      "source": [
        "x = lambda a, b : a * b\n",
        "print(x(5, 6))"
      ]
    },
    {
      "cell_type": "markdown",
      "source": [
        "Trả về kết quả của a * n"
      ],
      "metadata": {
        "id": "dXOSSdU9vOo5"
      },
      "id": "dXOSSdU9vOo5"
    },
    {
      "cell_type": "code",
      "execution_count": 8,
      "id": "b6bcc55f",
      "metadata": {
        "colab": {
          "base_uri": "https://localhost:8080/"
        },
        "id": "b6bcc55f",
        "outputId": "fd2d76c0-88a0-44be-8892-0b0882f1fdc5"
      },
      "outputs": [
        {
          "output_type": "stream",
          "name": "stdout",
          "text": [
            "22\n"
          ]
        }
      ],
      "source": [
        "def myfunc(n):\n",
        "  return lambda a : a * n\n",
        "\n",
        "mydoubler = myfunc(2)\n",
        "\n",
        "print(mydoubler(11))"
      ]
    },
    {
      "cell_type": "code",
      "execution_count": 9,
      "id": "d76c4778",
      "metadata": {
        "colab": {
          "base_uri": "https://localhost:8080/"
        },
        "id": "d76c4778",
        "outputId": "19f1b890-a345-47d8-af39-c08c5a598546"
      },
      "outputs": [
        {
          "output_type": "execute_result",
          "data": {
            "text/plain": [
              "[0, 1, 4, 9, 16, 25, 36, 49, 64, 81]"
            ]
          },
          "metadata": {},
          "execution_count": 9
        }
      ],
      "source": [
        "def square(x):\n",
        "    return x*x\n",
        "[square(x) for x in range(10)]"
      ]
    },
    {
      "cell_type": "code",
      "execution_count": 10,
      "id": "8ccd30cc",
      "metadata": {
        "colab": {
          "base_uri": "https://localhost:8080/"
        },
        "id": "8ccd30cc",
        "outputId": "0d1b9518-b74c-4471-a5cd-45d59a940a01"
      },
      "outputs": [
        {
          "output_type": "execute_result",
          "data": {
            "text/plain": [
              "[0, 1, 4, 9, 16, 25, 36, 49, 64, 81]"
            ]
          },
          "metadata": {},
          "execution_count": 10
        }
      ],
      "source": [
        "f = lambda x: x*x\n",
        "[f(x) for x in range(10)]"
      ]
    },
    {
      "cell_type": "code",
      "execution_count": 11,
      "id": "960c1ac7",
      "metadata": {
        "colab": {
          "base_uri": "https://localhost:8080/"
        },
        "id": "960c1ac7",
        "outputId": "5041d5d3-f5ed-43c5-8c8f-eabed4be7666"
      },
      "outputs": [
        {
          "output_type": "execute_result",
          "data": {
            "text/plain": [
              "[0, 1, 4, 9, 16, 25, 36, 49, 64, 81]"
            ]
          },
          "metadata": {},
          "execution_count": 11
        }
      ],
      "source": [
        "[(lambda x: x*x)(x) for x in range(10)]"
      ]
    },
    {
      "cell_type": "markdown",
      "source": [
        " tạo ra một danh sách gồm 10 hàm lambda, mỗi hàm lambda nhận một tham số x và trả về bình phương của x, nhưng không trả về kết quả là số"
      ],
      "metadata": {
        "id": "fXI9vCskvr37"
      },
      "id": "fXI9vCskvr37"
    },
    {
      "cell_type": "code",
      "execution_count": 12,
      "id": "475b0818",
      "metadata": {
        "colab": {
          "base_uri": "https://localhost:8080/"
        },
        "id": "475b0818",
        "outputId": "e8ded289-b840-4811-aa61-32c6f4c440dc"
      },
      "outputs": [
        {
          "output_type": "execute_result",
          "data": {
            "text/plain": [
              "[<function __main__.<listcomp>.<lambda>(x)>,\n",
              " <function __main__.<listcomp>.<lambda>(x)>,\n",
              " <function __main__.<listcomp>.<lambda>(x)>,\n",
              " <function __main__.<listcomp>.<lambda>(x)>,\n",
              " <function __main__.<listcomp>.<lambda>(x)>,\n",
              " <function __main__.<listcomp>.<lambda>(x)>,\n",
              " <function __main__.<listcomp>.<lambda>(x)>,\n",
              " <function __main__.<listcomp>.<lambda>(x)>,\n",
              " <function __main__.<listcomp>.<lambda>(x)>,\n",
              " <function __main__.<listcomp>.<lambda>(x)>]"
            ]
          },
          "metadata": {},
          "execution_count": 12
        }
      ],
      "source": [
        "[lambda x: x*x for x in range(10)]"
      ]
    }
  ],
  "metadata": {
    "kernelspec": {
      "display_name": "Python 3 (ipykernel)",
      "language": "python",
      "name": "python3"
    },
    "language_info": {
      "codemirror_mode": {
        "name": "ipython",
        "version": 3
      },
      "file_extension": ".py",
      "mimetype": "text/x-python",
      "name": "python",
      "nbconvert_exporter": "python",
      "pygments_lexer": "ipython3",
      "version": "3.9.12"
    },
    "colab": {
      "provenance": [],
      "toc_visible": true
    }
  },
  "nbformat": 4,
  "nbformat_minor": 5
}