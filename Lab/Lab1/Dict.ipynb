{
  "cells": [
    {
      "cell_type": "markdown",
      "metadata": {
        "id": "0zkcgoKNIs0O"
      },
      "source": [
        "### Dicts"
      ]
    },
    {
      "cell_type": "markdown",
      "metadata": {
        "id": "fVROOvuhIs0x"
      },
      "source": [
        "####  Methods to create new dictionary"
      ]
    },
    {
      "cell_type": "markdown",
      "metadata": {
        "id": "mcH-EiJsIs0x"
      },
      "source": [
        "d1 cũng thay đổi theo d2 vì nó cùng tham chiếu đến 1 đối tượng"
      ]
    },
    {
      "cell_type": "code",
      "execution_count": 1,
      "metadata": {
        "id": "G_KI7l0xIs0y",
        "outputId": "19fbbb12-1afa-4320-dc40-c6ee5bc70087",
        "colab": {
          "base_uri": "https://localhost:8080/"
        }
      },
      "outputs": [
        {
          "output_type": "execute_result",
          "data": {
            "text/plain": [
              "[1, 2, 3, 4]"
            ]
          },
          "metadata": {},
          "execution_count": 1
        }
      ],
      "source": [
        "d1 = {'a': [1,2]}\n",
        "d2 = d1\n",
        "d2['a'] = [1,2,3,4]\n",
        "d1['a']"
      ]
    },
    {
      "cell_type": "markdown",
      "metadata": {
        "id": "qYYPnE_4Is0y"
      },
      "source": [
        "Để tạo một đối tượng mới, sử dụng phương thức sao chép, Để tránh việc thay đổi cùng 1 đối tượng và tạo ra một bản sao độc lập của d1, ta có thể sử dụng phương thức copy():"
      ]
    },
    {
      "cell_type": "code",
      "execution_count": 3,
      "metadata": {
        "id": "RUrTWMO8Is0y",
        "outputId": "ad088882-ff8a-4d72-aaa8-dac4c01d5f19",
        "colab": {
          "base_uri": "https://localhost:8080/"
        }
      },
      "outputs": [
        {
          "output_type": "stream",
          "name": "stdout",
          "text": [
            "d1: {'a': [1, 2]}\n",
            "d2: {'a': [1, 2, 3]}\n"
          ]
        }
      ],
      "source": [
        "d1 = {'a': [1,2]}\n",
        "d2 = d1.copy()\n",
        "\n",
        "d2['a'] = [1,2,3]\n",
        "print('d1:', d1)\n",
        "print('d2:', d2)"
      ]
    },
    {
      "cell_type": "markdown",
      "source": [
        "khi sử dụng phương thức copy() để sao chép một dictionary chứa các đối tượng có tham chiếu, thì các tham chiếu đến các đối tượng đó vẫn được giữ nguyên."
      ],
      "metadata": {
        "id": "ViDFc8iAh2dq"
      }
    },
    {
      "cell_type": "code",
      "execution_count": 4,
      "metadata": {
        "id": "scti9D08Is0y",
        "outputId": "997fe65e-0a86-451e-c76b-100ba1e008bf",
        "colab": {
          "base_uri": "https://localhost:8080/"
        }
      },
      "outputs": [
        {
          "output_type": "stream",
          "name": "stdout",
          "text": [
            "d1: {'a': [3, 4], 'b': 5}\n",
            "d2: {'a': [3, 4], 'b': 5}\n"
          ]
        }
      ],
      "source": [
        "d1 = {'a': [1,2], 'b': 5}\n",
        "d2 = d1.copy()\n",
        "\n",
        "# thay đổi giá trị d2 sẽ ảnh hưởng đến d1\n",
        "d2['a'][0] = 3\n",
        "d2['a'][1] = 4\n",
        "\n",
        "print('d1:', d1)\n",
        "print('d2:', d2)"
      ]
    },
    {
      "cell_type": "markdown",
      "source": [
        "Để tránh tình trạng này, ta cần thực hiện một sao chép sâu (deepcopy) thay vì một copy bình thường. Chúng ta có thể sử dụng thư viện copy để thực hiện sao chép sâu"
      ],
      "metadata": {
        "id": "hjS4DzPuh8MA"
      }
    },
    {
      "cell_type": "code",
      "execution_count": null,
      "metadata": {
        "id": "bBuCetadIs0y",
        "outputId": "9adb66ad-8c1e-4cfa-c980-7df83b49d903",
        "colab": {
          "base_uri": "https://localhost:8080/"
        }
      },
      "outputs": [
        {
          "output_type": "stream",
          "name": "stdout",
          "text": [
            "d1: {'a': [1, 2], 'b': 5}\n",
            "d2: {'a': [3, 4], 'b': 5}\n"
          ]
        }
      ],
      "source": [
        "import copy\n",
        "\n",
        "d1 = {'a': [1,2], 'b': 5}\n",
        "d2 = copy.deepcopy(d1)\n",
        "\n",
        "# thay đổi giá trị d2\n",
        "d2['a'][0] = 3\n",
        "d2['a'][1] = 4\n",
        "\n",
        "print('d1:', d1)\n",
        "print('d2:', d2)"
      ]
    },
    {
      "cell_type": "markdown",
      "metadata": {
        "id": "rXEj3ixqIs0y"
      },
      "source": [
        "Xóa một từ điển (nghĩa là xóa tất cả các mục của nó) bằng phương thức clear ():"
      ]
    },
    {
      "cell_type": "code",
      "execution_count": null,
      "metadata": {
        "id": "9vR3VE6rIs0y",
        "outputId": "01800eae-1f22-494e-830d-6d0a774b4204",
        "colab": {
          "base_uri": "https://localhost:8080/"
        }
      },
      "outputs": [
        {
          "output_type": "stream",
          "name": "stdout",
          "text": [
            "{'a': [1, 2], 'b': 5}\n",
            "{}\n"
          ]
        }
      ],
      "source": [
        "d = {'a': [1,2], 'b': 5}\n",
        "print(d)\n",
        "\n",
        "d.clear()\n",
        "print(d)"
      ]
    },
    {
      "cell_type": "markdown",
      "metadata": {
        "id": "7-5fw2PyIs0z"
      },
      "source": [
        "Phương thức clear () xóa tất cả các mục trong khi del () xóa chỉ một mục trong dictionary:"
      ]
    },
    {
      "cell_type": "code",
      "execution_count": 5,
      "metadata": {
        "id": "f9W-RsT8Is00",
        "colab": {
          "base_uri": "https://localhost:8080/"
        },
        "outputId": "9260cc21-d639-4485-8d87-9bc5b091884e"
      },
      "outputs": [
        {
          "output_type": "stream",
          "name": "stdout",
          "text": [
            "{'b': 2, 'c': 3}\n"
          ]
        }
      ],
      "source": [
        "d = {'a':1, 'b':2, 'c':3}\n",
        "del d['a']\n",
        "print(d)"
      ]
    },
    {
      "cell_type": "markdown",
      "metadata": {
        "id": "ZObRcgxSIs00"
      },
      "source": [
        "Tạo một mục mới với giá trị mặc định (nếu không được cung cấp, Không có gì là mặc định):"
      ]
    },
    {
      "cell_type": "code",
      "execution_count": 6,
      "metadata": {
        "id": "qsZFRHvAIs00",
        "colab": {
          "base_uri": "https://localhost:8080/"
        },
        "outputId": "07732b12-9bcc-4c08-a7ed-851843543f1e"
      },
      "outputs": [
        {
          "output_type": "stream",
          "name": "stdout",
          "text": [
            "{'a': [1, 2], 'third': ''}\n"
          ]
        }
      ],
      "source": [
        "d1 = {'a': [1,2]}\n",
        "d2 = d1.copy()\n",
        "d2.setdefault('third', '')\n",
        "d2['third']\n",
        "print(d2)"
      ]
    },
    {
      "cell_type": "markdown",
      "metadata": {
        "id": "YXpAO0AgIs01"
      },
      "source": [
        "Tạo một từ điển cho một bộ khóa (key):"
      ]
    },
    {
      "cell_type": "code",
      "execution_count": 8,
      "metadata": {
        "id": "207XrTnvIs01",
        "colab": {
          "base_uri": "https://localhost:8080/"
        },
        "outputId": "54baf193-ab55-4b73-edad-73c1d44aed1c"
      },
      "outputs": [
        {
          "output_type": "execute_result",
          "data": {
            "text/plain": [
              "{'first': None, 'second': None}"
            ]
          },
          "metadata": {},
          "execution_count": 8
        }
      ],
      "source": [
        "d1 = {'a': [1,2]}\n",
        "d2 = d1.copy()\n",
        "d2.fromkeys(['first', 'second'])"
      ]
    },
    {
      "cell_type": "markdown",
      "metadata": {
        "id": "7GqO52tQIs01"
      },
      "source": [
        "Ta có một cách tương tự như trên"
      ]
    },
    {
      "cell_type": "code",
      "execution_count": 9,
      "metadata": {
        "id": "Rzq_OnB-Is01",
        "colab": {
          "base_uri": "https://localhost:8080/"
        },
        "outputId": "896e2bb0-8b13-4414-f82b-bf66dfbc48d9"
      },
      "outputs": [
        {
          "output_type": "execute_result",
          "data": {
            "text/plain": [
              "{'first': None, 'second': None}"
            ]
          },
          "metadata": {},
          "execution_count": 9
        }
      ],
      "source": [
        "{}.fromkeys(['first', 'second'])"
      ]
    },
    {
      "cell_type": "markdown",
      "metadata": {
        "id": "SIUbHxgGIs02"
      },
      "source": [
        "Phương thức fromkeys () tạo ra một từ điển mới với các khóa đã cho,\n",
        "mỗi khóa có giá trị tương ứng mặc định là None."
      ]
    },
    {
      "cell_type": "markdown",
      "metadata": {
        "id": "a0XMVCMxIs02"
      },
      "source": [
        "####  Combining dictionaries"
      ]
    },
    {
      "cell_type": "markdown",
      "metadata": {
        "id": "zyNIsvc9Is02"
      },
      "source": [
        "Cho 2 từ điển d1 và d2, bạn có thể thêm tất cả các cặp key/ value từ d2 vào d1 bằng cách sử dụng phương thức `update()` (thay vì lặp và tự gán từng cặp):\n",
        "\n",
        "`d1.update(d2)` sẽ cập nhật các cặp key-value từ d2 vào d1."
      ]
    },
    {
      "cell_type": "code",
      "execution_count": 12,
      "metadata": {
        "id": "FnQg4tV2Is02",
        "outputId": "a5a9e798-0057-4684-a92b-972ad47686ba",
        "colab": {
          "base_uri": "https://localhost:8080/"
        }
      },
      "outputs": [
        {
          "output_type": "execute_result",
          "data": {
            "text/plain": [
              "2"
            ]
          },
          "metadata": {},
          "execution_count": 12
        }
      ],
      "source": [
        "\n",
        "d1 = {'a':1}\n",
        "d2 = {'a':2, 'b':2}\n",
        "d1.update(d2)\n",
        "d1['a']"
      ]
    },
    {
      "cell_type": "code",
      "execution_count": null,
      "metadata": {
        "id": "f6M8SvXQIs03",
        "outputId": "f55189b2-788d-4604-9229-44bdb1a4c4d0"
      },
      "outputs": [
        {
          "name": "stdout",
          "output_type": "stream",
          "text": [
            "d1: {'a': 1}\n",
            "d2: {'b': 2, 'c': 3}\n",
            "d1 sau khi update: {'a': 1, 'b': 2, 'c': 3}\n"
          ]
        }
      ],
      "source": [
        "d1 = {'a':1}\n",
        "d2 = {'b':2, 'c':3}\n",
        "\n",
        "print('d1:', d1)\n",
        "print('d2:', d2)\n",
        "\n",
        "d1.update(d2)\n",
        "print('d1 sau khi update:', d1)"
      ]
    },
    {
      "cell_type": "markdown",
      "metadata": {
        "id": "TCpYF6gaIs03"
      },
      "source": [
        "Các mục trong từ điển được cung cấp được thêm vào từ cũ, ghi đè bất kỳ mục nào có cùng khóa"
      ]
    },
    {
      "cell_type": "markdown",
      "metadata": {
        "id": "BRJPGkGQIs03"
      },
      "source": [
        "####  iterators"
      ]
    },
    {
      "cell_type": "markdown",
      "metadata": {
        "id": "Mn3ZfXHDIs03"
      },
      "source": [
        "Từ điển cung cấp các trình vòng lặp trên các giá trị, khóa hoặc các mục\n",
        "\n",
        "Lưu ý chỉ chạy được trên Python 2, Python 3 cần thay đổi sang values(), keys(), và items()"
      ]
    },
    {
      "cell_type": "code",
      "execution_count": 17,
      "metadata": {
        "id": "UgPujHWlIs04",
        "outputId": "4e5431aa-1e88-4dcb-cdae-fb7e4365a754",
        "colab": {
          "base_uri": "https://localhost:8080/",
          "height": 219
        }
      },
      "outputs": [
        {
          "output_type": "error",
          "ename": "AttributeError",
          "evalue": "'dict' object has no attribute 'itervalues'",
          "traceback": [
            "\u001b[0;31m---------------------------------------------------------------------------\u001b[0m",
            "\u001b[0;31mAttributeError\u001b[0m                            Traceback (most recent call last)",
            "\u001b[0;32m<ipython-input-17-841140d49cd9>\u001b[0m in \u001b[0;36m<cell line: 5>\u001b[0;34m()\u001b[0m\n\u001b[1;32m      3\u001b[0m \u001b[0;34m\u001b[0m\u001b[0m\n\u001b[1;32m      4\u001b[0m \u001b[0;31m# Sử dụng itervalues()\u001b[0m\u001b[0;34m\u001b[0m\u001b[0;34m\u001b[0m\u001b[0m\n\u001b[0;32m----> 5\u001b[0;31m \u001b[0mvalues\u001b[0m \u001b[0;34m=\u001b[0m \u001b[0;34m[\u001b[0m\u001b[0mx\u001b[0m \u001b[0;32mfor\u001b[0m \u001b[0mx\u001b[0m \u001b[0;32min\u001b[0m \u001b[0md1\u001b[0m\u001b[0;34m.\u001b[0m\u001b[0mitervalues\u001b[0m\u001b[0;34m(\u001b[0m\u001b[0;34m)\u001b[0m\u001b[0;34m]\u001b[0m\u001b[0;34m\u001b[0m\u001b[0;34m\u001b[0m\u001b[0m\n\u001b[0m\u001b[1;32m      6\u001b[0m \u001b[0;34m\u001b[0m\u001b[0m\n\u001b[1;32m      7\u001b[0m \u001b[0;31m# Sử dụng iterkeys()\u001b[0m\u001b[0;34m\u001b[0m\u001b[0;34m\u001b[0m\u001b[0m\n",
            "\u001b[0;31mAttributeError\u001b[0m: 'dict' object has no attribute 'itervalues'"
          ]
        }
      ],
      "source": [
        "\n",
        "d1 = {'a': 1, 'b': 2, 'c': 3}\n",
        "\n",
        "# Sử dụng itervalues()\n",
        "values = [x for x in d1.itervalues()]\n",
        "\n",
        "# Sử dụng iterkeys()\n",
        "keys = [x for x in d1.iterkeys()]\n",
        "\n",
        "# Sử dụng iteritems()\n",
        "items = [x for x in d1.iteritems()]\n",
        "\n",
        "print(\"Values:\", values)\n",
        "print(\"Keys:\", keys)\n",
        "print(\"Items:\", items)\n",
        "\n"
      ]
    },
    {
      "cell_type": "code",
      "source": [
        "d1 = {'a': 1, 'b': 2, 'c': 3}\n",
        "\n",
        "# Sử dụng values()\n",
        "values = [x for x in d1.values()]\n",
        "\n",
        "# Sử dụng keys()\n",
        "keys = [x for x in d1.keys()]\n",
        "\n",
        "# Sử dụng items()\n",
        "items = [x for x in d1.items()]\n",
        "\n",
        "print(\"Values:\", values)\n",
        "print(\"Keys:\", keys)\n",
        "print(\"Items:\", items)\n"
      ],
      "metadata": {
        "colab": {
          "base_uri": "https://localhost:8080/"
        },
        "id": "PZdZvvMGkKa8",
        "outputId": "1e336b55-70f4-4ca0-8b0e-dc7e6ad4a04c"
      },
      "execution_count": 18,
      "outputs": [
        {
          "output_type": "stream",
          "name": "stdout",
          "text": [
            "Values: [1, 2, 3]\n",
            "Keys: ['a', 'b', 'c']\n",
            "Items: [('a', 1), ('b', 2), ('c', 3)]\n"
          ]
        }
      ]
    },
    {
      "cell_type": "markdown",
      "source": [
        " Sử dụng hàm zip() để ghép các phần tử từ hai danh sách l_keys và l_values thành các cặp key-value. Sau đó, comprehension được sử dụng để tạo ra một dictionary từ các cặp key-value này"
      ],
      "metadata": {
        "id": "IM4jkNhTk_eT"
      }
    },
    {
      "cell_type": "code",
      "execution_count": null,
      "metadata": {
        "id": "kkhogwzhIs04",
        "outputId": "6e6cf4b3-4c84-4511-de16-a69f6c4b5144"
      },
      "outputs": [
        {
          "name": "stdout",
          "output_type": "stream",
          "text": [
            "{('b', 2), ('c', 3), ('d', 4), ('e', 5), ('a', 1)}\n"
          ]
        }
      ],
      "source": [
        "l_keys   = ['a', 'b', 'c', 'd', 'e']\n",
        "l_values = [1, 2, 3, 4, 5]\n",
        "\n",
        "d = {(k,v) for (k,v) in zip(l_keys,l_values)}\n",
        "print(d)"
      ]
    },
    {
      "cell_type": "markdown",
      "metadata": {
        "id": "VMzsjgByIs04"
      },
      "source": [
        "viewkey, viewvalues, viewitems là các đối tượng giống như tập hợp cung cấp chế độ xem trên các key, value của D."
      ]
    },
    {
      "cell_type": "markdown",
      "metadata": {
        "id": "WyOHhQNMIs04"
      },
      "source": [
        "#### comparison"
      ]
    },
    {
      "cell_type": "markdown",
      "metadata": {
        "id": "eDqSJbZOIs05"
      },
      "source": [
        "Sử dụng comprehension để tạo một dictionary. Với mỗi giá trị i trong phạm vi từ 0 đến 4 (tức là range(5)), nó tạo ra một cặp key-value với key là chuỗi biểu diễn của i (tức là str(i)) và giá trị là i."
      ]
    },
    {
      "cell_type": "code",
      "execution_count": null,
      "metadata": {
        "id": "Iqr_QpoFIs05",
        "outputId": "7ed3f4e4-41d8-4d10-f4b1-ba91111175e6"
      },
      "outputs": [
        {
          "name": "stdout",
          "output_type": "stream",
          "text": [
            "{'0': 0, '1': 1, '2': 2, '3': 3, '4': 4}\n"
          ]
        }
      ],
      "source": [
        "# dic comprehension\n",
        "\n",
        "aDict = {str(i):i for i in range(5)}\n",
        "print(aDict)"
      ]
    },
    {
      "cell_type": "markdown",
      "source": [
        "sử dụng hàm zip() để ghép cặp các phần tử từ tuple1 và tuple2, sau đó chuyển đổi thành một dictionary bằng cách sử dụng hàm dict().\n",
        "\n",
        "zip(tuple1, tuple2) tạo ra một iterator chứa các cặp (key, value) với key lấy từ tuple1 và value lấy từ tuple2. Trong trường hợp này, cặp (1, 4), (2, 5), (3, 6) được tạo ra."
      ],
      "metadata": {
        "id": "l6CpWhpfn-NZ"
      }
    },
    {
      "cell_type": "code",
      "execution_count": null,
      "metadata": {
        "id": "FV9KzaT5Is05",
        "outputId": "d06d376e-dc8f-4d54-f390-fa151fc9e842"
      },
      "outputs": [
        {
          "name": "stdout",
          "output_type": "stream",
          "text": [
            "<class 'dict'>\n",
            "{1: 4, 2: 5, 3: 6}\n"
          ]
        }
      ],
      "source": [
        "# from zip\n",
        "\n",
        "tuple1 = (1, 2, 3)\n",
        "tuple2 = (4, 5, 6)\n",
        "\n",
        "a_dict = dict(zip(tuple1, tuple2))\n",
        "print(type(a_dict))\n",
        "print(a_dict)"
      ]
    },
    {
      "cell_type": "markdown",
      "source": [
        "Tương tự như trên, chỉ khác ở đầu vào là set thay vì tuple"
      ],
      "metadata": {
        "id": "8YUKS6-An9VB"
      }
    },
    {
      "cell_type": "code",
      "execution_count": null,
      "metadata": {
        "id": "foCXwtt-Is05",
        "outputId": "b5e40427-f361-470a-9fdd-0a90682129ff"
      },
      "outputs": [
        {
          "name": "stdout",
          "output_type": "stream",
          "text": [
            "<class 'dict'>\n",
            "{1: 4, 2: 5, 3: 6}\n"
          ]
        }
      ],
      "source": [
        "# from zip\n",
        "\n",
        "set1 = {1, 2, 3}\n",
        "set2 = {4, 5, 6}\n",
        "\n",
        "a_dict = dict(zip(set1, set2))\n",
        "print(type(a_dict))\n",
        "print(a_dict)"
      ]
    },
    {
      "cell_type": "markdown",
      "source": [
        "Tương tự như trên, chỉ khác ở đầu vào là list\n",
        "\n"
      ],
      "metadata": {
        "id": "jI_rbw3doILB"
      }
    },
    {
      "cell_type": "code",
      "execution_count": null,
      "metadata": {
        "id": "LxRR5EQTIs05",
        "outputId": "58ab2ce5-263c-4371-eb80-9fd49e355466"
      },
      "outputs": [
        {
          "name": "stdout",
          "output_type": "stream",
          "text": [
            "<class 'dict'>\n",
            "{1: 4, 2: 5, 3: 6}\n"
          ]
        }
      ],
      "source": [
        "# from zip\n",
        "\n",
        "list1 = [1, 2, 3]\n",
        "list2 = [4, 5, 6]\n",
        "\n",
        "a_dict = dict(zip(list1, list2))\n",
        "print(type(a_dict))\n",
        "print(a_dict)"
      ]
    },
    {
      "cell_type": "markdown",
      "source": [
        "Không có key -> lỗi KeyError"
      ],
      "metadata": {
        "id": "ToJtJd8xodeJ"
      }
    },
    {
      "cell_type": "code",
      "execution_count": 19,
      "metadata": {
        "id": "DZuuAjxBIs06",
        "outputId": "18c61d7d-6add-4d8d-aa76-3b2f9c4b4ccc",
        "colab": {
          "base_uri": "https://localhost:8080/",
          "height": 200
        }
      },
      "outputs": [
        {
          "output_type": "error",
          "ename": "KeyError",
          "evalue": "'apple'",
          "traceback": [
            "\u001b[0;31m---------------------------------------------------------------------------\u001b[0m",
            "\u001b[0;31mKeyError\u001b[0m                                  Traceback (most recent call last)",
            "\u001b[0;32m<ipython-input-19-51726b83b94a>\u001b[0m in \u001b[0;36m<cell line: 5>\u001b[0;34m()\u001b[0m\n\u001b[1;32m      3\u001b[0m \u001b[0mfruits\u001b[0m \u001b[0;34m=\u001b[0m \u001b[0;34m{\u001b[0m\u001b[0;34m'banana'\u001b[0m\u001b[0;34m:\u001b[0m \u001b[0;36m2\u001b[0m\u001b[0;34m}\u001b[0m\u001b[0;34m\u001b[0m\u001b[0;34m\u001b[0m\u001b[0m\n\u001b[1;32m      4\u001b[0m \u001b[0;34m\u001b[0m\u001b[0m\n\u001b[0;32m----> 5\u001b[0;31m \u001b[0mfruits\u001b[0m\u001b[0;34m[\u001b[0m\u001b[0;34m'apple'\u001b[0m\u001b[0;34m]\u001b[0m \u001b[0;34m+=\u001b[0m \u001b[0;36m10\u001b[0m\u001b[0;34m\u001b[0m\u001b[0;34m\u001b[0m\u001b[0m\n\u001b[0m\u001b[1;32m      6\u001b[0m \u001b[0mprint\u001b[0m\u001b[0;34m(\u001b[0m\u001b[0mfruits\u001b[0m\u001b[0;34m)\u001b[0m\u001b[0;34m\u001b[0m\u001b[0;34m\u001b[0m\u001b[0m\n",
            "\u001b[0;31mKeyError\u001b[0m: 'apple'"
          ]
        }
      ],
      "source": [
        "# setdefault()\n",
        "\n",
        "fruits = {'banana': 2}\n",
        "\n",
        "fruits['apple'] += 10\n",
        "print(fruits)"
      ]
    },
    {
      "cell_type": "markdown",
      "source": [
        "Không có dict cereal"
      ],
      "metadata": {
        "id": "Xhfkzyy4onfi"
      }
    },
    {
      "cell_type": "code",
      "execution_count": 20,
      "metadata": {
        "id": "wCboUWKmIs06",
        "outputId": "b0163839-72ca-4a8e-c835-224a5f8bded1",
        "colab": {
          "base_uri": "https://localhost:8080/",
          "height": 200
        }
      },
      "outputs": [
        {
          "output_type": "error",
          "ename": "NameError",
          "evalue": "name 'cereal' is not defined",
          "traceback": [
            "\u001b[0;31m---------------------------------------------------------------------------\u001b[0m",
            "\u001b[0;31mNameError\u001b[0m                                 Traceback (most recent call last)",
            "\u001b[0;32m<ipython-input-20-4e960002bc66>\u001b[0m in \u001b[0;36m<cell line: 4>\u001b[0;34m()\u001b[0m\n\u001b[1;32m      2\u001b[0m \u001b[0;34m\u001b[0m\u001b[0m\n\u001b[1;32m      3\u001b[0m \u001b[0mfruits\u001b[0m \u001b[0;34m=\u001b[0m \u001b[0;34m{\u001b[0m\u001b[0;34m'banana'\u001b[0m\u001b[0;34m:\u001b[0m \u001b[0;36m2\u001b[0m\u001b[0;34m,\u001b[0m \u001b[0;34m'apple'\u001b[0m\u001b[0;34m:\u001b[0m \u001b[0;36m4\u001b[0m\u001b[0;34m}\u001b[0m\u001b[0;34m\u001b[0m\u001b[0;34m\u001b[0m\u001b[0m\n\u001b[0;32m----> 4\u001b[0;31m \u001b[0mresult\u001b[0m \u001b[0;34m=\u001b[0m \u001b[0;34m{\u001b[0m\u001b[0;34m**\u001b[0m\u001b[0mfruits\u001b[0m\u001b[0;34m,\u001b[0m \u001b[0;34m**\u001b[0m\u001b[0mcereal\u001b[0m\u001b[0;34m}\u001b[0m\u001b[0;34m\u001b[0m\u001b[0;34m\u001b[0m\u001b[0m\n\u001b[0m\u001b[1;32m      5\u001b[0m \u001b[0mprint\u001b[0m\u001b[0;34m(\u001b[0m\u001b[0;34m**\u001b[0m\u001b[0mfruits\u001b[0m\u001b[0;34m)\u001b[0m\u001b[0;34m\u001b[0m\u001b[0;34m\u001b[0m\u001b[0m\n",
            "\u001b[0;31mNameError\u001b[0m: name 'cereal' is not defined"
          ]
        }
      ],
      "source": [
        "# merge two dicts\n",
        "\n",
        "fruits = {'banana': 2, 'apple': 4}\n",
        "result = {**fruits, **cereal}\n",
        "print(**fruits)"
      ]
    },
    {
      "cell_type": "markdown",
      "source": [
        "sử dụng cú pháp ** để gộp hai dictionaries fruits và cereal thành một dictionary mới, `result`"
      ],
      "metadata": {
        "id": "Eyi7XOuwozYJ"
      }
    },
    {
      "cell_type": "code",
      "execution_count": null,
      "metadata": {
        "id": "KIaOTb_vIs06",
        "outputId": "549ac8bd-b7b8-4cca-ba69-42d8c6640d4f"
      },
      "outputs": [
        {
          "name": "stdout",
          "output_type": "stream",
          "text": [
            "{'banana': 2, 'apple': 4, 'rice': 3, 'corn': 7}\n"
          ]
        }
      ],
      "source": [
        "# merge two dicts\n",
        "\n",
        "fruits = {'banana': 2, 'apple': 4}\n",
        "cereal = {'rice': 3, 'corn': 7}\n",
        "\n",
        "result = {**fruits, **cereal}\n",
        "print(result)"
      ]
    },
    {
      "cell_type": "markdown",
      "source": [
        "Kiểm tra key có tồn tại hay không bằng `in`"
      ],
      "metadata": {
        "id": "7QyvNdhHo6DT"
      }
    },
    {
      "cell_type": "code",
      "execution_count": null,
      "metadata": {
        "id": "MZKmDjNBIs07",
        "outputId": "9b0e6add-e16f-425c-9201-4f51fb6b8cd6"
      },
      "outputs": [
        {
          "name": "stdout",
          "output_type": "stream",
          "text": [
            "True\n",
            "False\n"
          ]
        }
      ],
      "source": [
        "# check if a key exists\n",
        "\n",
        "fruits = {'banana': 2, 'apple': 4}\n",
        "\n",
        "print('apple' in fruits)\n",
        "print('corn' in fruits)"
      ]
    },
    {
      "cell_type": "markdown",
      "source": [
        "Loại bỏ key không có giá trị bằng cách tạo dict mới và duyệt các phần tử có value khác `None`"
      ],
      "metadata": {
        "id": "eS4hC1MhpD_h"
      }
    },
    {
      "cell_type": "code",
      "execution_count": null,
      "metadata": {
        "id": "kubbCImDIs07",
        "outputId": "3658bd1e-fde2-48d3-efda-20c27d958f35"
      },
      "outputs": [
        {
          "name": "stdout",
          "output_type": "stream",
          "text": [
            "{'banana': 2}\n"
          ]
        }
      ],
      "source": [
        "# remove empty items\n",
        "\n",
        "fruits = {'banana': 2, 'apple': None}\n",
        "\n",
        "dict1 = {key:value for (key, value)\n",
        "                     in fruits.items()\n",
        "                     if value is not None}\n",
        "print(dict1)"
      ]
    },
    {
      "cell_type": "markdown",
      "source": [
        "Dùng `get` để lấy value từ key, không có trả về None"
      ],
      "metadata": {
        "id": "PspC2C8LpQf5"
      }
    },
    {
      "cell_type": "code",
      "execution_count": null,
      "metadata": {
        "id": "huj_MefxIs07",
        "outputId": "9a9f08b9-9b1a-4532-e5a6-1b2ce14bb5e4"
      },
      "outputs": [
        {
          "name": "stdout",
          "output_type": "stream",
          "text": [
            "4\n",
            "None\n"
          ]
        }
      ],
      "source": [
        "# access value via key\n",
        "\n",
        "fruits = {'banana': 2, 'apple': 4}\n",
        "print(fruits.get('apple'))\n",
        "print(fruits.get('corn'))"
      ]
    },
    {
      "cell_type": "markdown",
      "source": [
        "Nếu dùng cách thông thường thì gây lỗi KeyError khi truy xuất key không tồn tại"
      ],
      "metadata": {
        "id": "s1TcEliTpY05"
      }
    },
    {
      "cell_type": "code",
      "execution_count": null,
      "metadata": {
        "id": "c77lKIRVIs08",
        "outputId": "01fd8fd4-4d91-4dc4-f517-c6573a00b701"
      },
      "outputs": [
        {
          "name": "stdout",
          "output_type": "stream",
          "text": [
            "4\n"
          ]
        },
        {
          "ename": "KeyError",
          "evalue": "'corn'",
          "output_type": "error",
          "traceback": [
            "\u001b[1;31m---------------------------------------------------------------------------\u001b[0m",
            "\u001b[1;31mKeyError\u001b[0m                                  Traceback (most recent call last)",
            "\u001b[1;32m<ipython-input-21-bda9d1f64a8f>\u001b[0m in \u001b[0;36m<module>\u001b[1;34m\u001b[0m\n\u001b[0;32m      3\u001b[0m \u001b[0mfruits\u001b[0m \u001b[1;33m=\u001b[0m \u001b[1;33m{\u001b[0m\u001b[1;34m'banana'\u001b[0m\u001b[1;33m:\u001b[0m \u001b[1;36m2\u001b[0m\u001b[1;33m,\u001b[0m \u001b[1;34m'apple'\u001b[0m\u001b[1;33m:\u001b[0m \u001b[1;36m4\u001b[0m\u001b[1;33m}\u001b[0m\u001b[1;33m\u001b[0m\u001b[1;33m\u001b[0m\u001b[0m\n\u001b[0;32m      4\u001b[0m \u001b[0mprint\u001b[0m\u001b[1;33m(\u001b[0m\u001b[0mfruits\u001b[0m\u001b[1;33m[\u001b[0m\u001b[1;34m'apple'\u001b[0m\u001b[1;33m]\u001b[0m\u001b[1;33m)\u001b[0m\u001b[1;33m\u001b[0m\u001b[1;33m\u001b[0m\u001b[0m\n\u001b[1;32m----> 5\u001b[1;33m \u001b[0mprint\u001b[0m\u001b[1;33m(\u001b[0m\u001b[0mfruits\u001b[0m\u001b[1;33m[\u001b[0m\u001b[1;34m'corn'\u001b[0m\u001b[1;33m]\u001b[0m\u001b[1;33m)\u001b[0m\u001b[1;33m\u001b[0m\u001b[1;33m\u001b[0m\u001b[0m\n\u001b[0m",
            "\u001b[1;31mKeyError\u001b[0m: 'corn'"
          ]
        }
      ],
      "source": [
        "# access value via key\n",
        "\n",
        "fruits = {'banana': 2, 'apple': 4}\n",
        "print(fruits['apple'])\n",
        "print(fruits['corn'])"
      ]
    },
    {
      "cell_type": "markdown",
      "metadata": {
        "id": "ZL00p3PZIs08"
      },
      "source": [
        "## Dictionary and File"
      ]
    },
    {
      "cell_type": "markdown",
      "source": [
        "json.dump(parameters, fp) ghi nội dung của dictionary parameters vào tệp tin được mở với quyền ghi ('w'). Trong trường hợp này, dictionary parameters sẽ được ghi vào tệp tin data.json."
      ],
      "metadata": {
        "id": "rJAj-s7_qsBy"
      }
    },
    {
      "cell_type": "code",
      "execution_count": 21,
      "metadata": {
        "id": "PmgAg3xjIs08"
      },
      "outputs": [],
      "source": [
        "import json\n",
        "\n",
        "parameters = {'learning_rate': 0.1,\n",
        "              'optimizer': 'Adam',\n",
        "              'metric': 'Accuracy'}\n",
        "\n",
        "with open('data.json', 'w') as fp:\n",
        "    json.dump(parameters, fp)"
      ]
    },
    {
      "cell_type": "markdown",
      "source": [
        "json.load(fp) đọc nội dung của tệp tin JSON đã mở và chuyển đổi nó thành một dictionary. Trong trường hợp này, nội dung của tệp tin 'data.json' sẽ được đọc và chuyển đổi thành dictionary data"
      ],
      "metadata": {
        "id": "bf_yH0DTqz9i"
      }
    },
    {
      "cell_type": "code",
      "execution_count": 22,
      "metadata": {
        "id": "ooE8S09QIs08",
        "colab": {
          "base_uri": "https://localhost:8080/"
        },
        "outputId": "fb4541f5-18e4-4044-a972-437095c9c524"
      },
      "outputs": [
        {
          "output_type": "stream",
          "name": "stdout",
          "text": [
            "{'learning_rate': 0.1, 'optimizer': 'Adam', 'metric': 'Accuracy'}\n"
          ]
        }
      ],
      "source": [
        "with open('data.json', 'r') as fp:\n",
        "    data = json.load(fp)\n",
        "    print(data)"
      ]
    },
    {
      "cell_type": "code",
      "execution_count": 23,
      "metadata": {
        "id": "VZD-sNxGIs08",
        "colab": {
          "base_uri": "https://localhost:8080/"
        },
        "outputId": "4fad7ebc-26f0-4f36-fa27-804839454da4"
      },
      "outputs": [
        {
          "output_type": "stream",
          "name": "stdout",
          "text": [
            "0.1\n"
          ]
        }
      ],
      "source": [
        "print(data['learning_rate'])"
      ]
    },
    {
      "cell_type": "markdown",
      "metadata": {
        "id": "lTpnro0tIs09"
      },
      "source": [
        "## Iterables and Sorting"
      ]
    },
    {
      "cell_type": "code",
      "execution_count": null,
      "metadata": {
        "id": "o_HoV4FMIs09",
        "outputId": "b626e709-db2b-4ecc-cca4-c7c57ff4124a"
      },
      "outputs": [
        {
          "name": "stdout",
          "output_type": "stream",
          "text": [
            "[1, 5, 3, 7, 4]\n",
            "[1, 3, 4, 5, 7]\n"
          ]
        }
      ],
      "source": [
        "# create a list\n",
        "aList = [1, 5, 3, 7, 4]\n",
        "print(aList)\n",
        "\n",
        "# sort\n",
        "sortedList = sorted(aList)\n",
        "print(sortedList)"
      ]
    },
    {
      "cell_type": "code",
      "execution_count": null,
      "metadata": {
        "id": "mJb-9CTWIs09",
        "outputId": "44707f49-7b0b-4d6f-f88b-e28e65022e11"
      },
      "outputs": [
        {
          "name": "stdout",
          "output_type": "stream",
          "text": [
            "[1, 5, 3, 7, 4]\n",
            "[1, 3, 4, 5, 7]\n"
          ]
        }
      ],
      "source": [
        "# create a list\n",
        "aList = [1, 5, 3, 7, 4]\n",
        "print(aList)\n",
        "\n",
        "# function for sorting\n",
        "def compare(item):\n",
        "    return item\n",
        "\n",
        "# sort\n",
        "sortedList = sorted(aList, key=compare)\n",
        "print(sortedList)"
      ]
    },
    {
      "cell_type": "code",
      "execution_count": null,
      "metadata": {
        "id": "ycE8lAJTIs09",
        "outputId": "8d2043f5-4d6d-4d40-9e56-c24586821f91"
      },
      "outputs": [
        {
          "name": "stdout",
          "output_type": "stream",
          "text": [
            "{1: 16, 5: 13, 3: 18, 7: 11, 4: 15}\n"
          ]
        }
      ],
      "source": [
        "# data\n",
        "list1 = [1, 5, 3, 7, 4]\n",
        "list2 = [16, 13, 18, 11, 15]\n",
        "\n",
        "# create a dictionary\n",
        "dictionary = dict(zip(list1, list2))\n",
        "print(dictionary)"
      ]
    },
    {
      "cell_type": "code",
      "execution_count": null,
      "metadata": {
        "id": "qoyg9b3cIs09",
        "outputId": "ac5d00fe-f7df-4a49-b601-1278f0761679"
      },
      "outputs": [
        {
          "name": "stdout",
          "output_type": "stream",
          "text": [
            "[1, 3, 4, 5, 7]\n"
          ]
        }
      ],
      "source": [
        "sortedDict = sorted(dictionary)\n",
        "print(sortedDict)"
      ]
    },
    {
      "cell_type": "code",
      "execution_count": null,
      "metadata": {
        "id": "KUZkmoNMIs09",
        "outputId": "f1b7e60c-9a3e-4cf4-8345-db3fd05d0174"
      },
      "outputs": [
        {
          "name": "stdout",
          "output_type": "stream",
          "text": [
            "[('a', 16), ('g', 13), ('e', 18), ('h', 11), ('b', 15)]\n"
          ]
        }
      ],
      "source": [
        "# data\n",
        "list1 = ['a', 'g', 'e', 'h', 'b']\n",
        "list2 = [16, 13, 18, 11, 15]\n",
        "\n",
        "# create a dictionary\n",
        "list3 = list(zip(list1, list2))\n",
        "print(list3)"
      ]
    },
    {
      "cell_type": "code",
      "execution_count": null,
      "metadata": {
        "id": "sQ-TwWZ3Is09",
        "outputId": "7d525946-785e-4e1b-bd44-9cb935805595"
      },
      "outputs": [
        {
          "name": "stdout",
          "output_type": "stream",
          "text": [
            "[('a', 16), ('b', 15), ('e', 18), ('g', 13), ('h', 11)]\n"
          ]
        }
      ],
      "source": [
        "list4 = sorted(list3)\n",
        "print(list4)"
      ]
    },
    {
      "cell_type": "code",
      "execution_count": null,
      "metadata": {
        "id": "kYsNgQ75Is0-"
      },
      "outputs": [],
      "source": []
    },
    {
      "cell_type": "code",
      "execution_count": null,
      "metadata": {
        "id": "a3SlVrR5Is0-",
        "outputId": "9ce81835-0c50-422d-987a-de7b47967b33"
      },
      "outputs": [
        {
          "name": "stdout",
          "output_type": "stream",
          "text": [
            "[('a', 16), ('g', 13), ('e', 18), ('h', 11), ('b', 15)]\n"
          ]
        }
      ],
      "source": [
        "# data\n",
        "list1 = ['a', 'g', 'e', 'h', 'b']\n",
        "list2 = [16, 13, 18, 11, 15]\n",
        "\n",
        "# function for sorting\n",
        "def compare(item):\n",
        "    return item[0]\n",
        "\n",
        "# create a dictionary\n",
        "list3 = list(zip(list1, list2))\n",
        "print(list3)"
      ]
    },
    {
      "cell_type": "code",
      "execution_count": null,
      "metadata": {
        "id": "I_9Sn-r4Is0-",
        "outputId": "7ec0b153-4889-43c6-c2ca-7916dd814c27"
      },
      "outputs": [
        {
          "name": "stdout",
          "output_type": "stream",
          "text": [
            "[('a', 16), ('b', 15), ('e', 18), ('g', 13), ('h', 11)]\n"
          ]
        }
      ],
      "source": [
        "list4 = sorted(list3, key=compare)\n",
        "print(list4)"
      ]
    },
    {
      "cell_type": "code",
      "execution_count": null,
      "metadata": {
        "id": "RuKq0txDIs0-"
      },
      "outputs": [],
      "source": []
    },
    {
      "cell_type": "code",
      "execution_count": null,
      "metadata": {
        "id": "hS7fZSzWIs0-",
        "outputId": "0aa6d9ee-b9a2-49ff-80c2-bad698bf7505"
      },
      "outputs": [
        {
          "name": "stdout",
          "output_type": "stream",
          "text": [
            "[('a', 16), ('g', 13), ('e', 18), ('h', 11), ('b', 15)]\n"
          ]
        }
      ],
      "source": [
        "# data\n",
        "list1 = ['a', 'g', 'e', 'h', 'b']\n",
        "list2 = [16, 13, 18, 11, 15]\n",
        "\n",
        "# function for sorting\n",
        "def compare(item):\n",
        "    return item[1]\n",
        "\n",
        "# create a dictionary\n",
        "list3 = list(zip(list1, list2))\n",
        "print(list3)"
      ]
    },
    {
      "cell_type": "code",
      "execution_count": null,
      "metadata": {
        "id": "ASZdUT1JIs1B",
        "outputId": "a5450ea7-379b-403a-9996-16f9141a9b80"
      },
      "outputs": [
        {
          "name": "stdout",
          "output_type": "stream",
          "text": [
            "[('h', 11), ('g', 13), ('b', 15), ('a', 16), ('e', 18)]\n"
          ]
        }
      ],
      "source": [
        "list4 = sorted(list3, key=compare)\n",
        "print(list4)"
      ]
    },
    {
      "cell_type": "code",
      "execution_count": null,
      "metadata": {
        "id": "cLFFN8yXIs1C",
        "outputId": "ba33625a-acf7-49d7-b2d8-5a6e39f4daa2"
      },
      "outputs": [
        {
          "name": "stdout",
          "output_type": "stream",
          "text": [
            "[('a', 16), ('g', 13), ('e', 18), ('h', 11), ('b', 15)]\n"
          ]
        }
      ],
      "source": [
        "# data\n",
        "list1 = ['a', 'g', 'e', 'h', 'b']\n",
        "list2 = [16, 13, 18, 11, 15]\n",
        "\n",
        "# create a dictionary\n",
        "list3 = list(zip(list1, list2))\n",
        "print(list3)"
      ]
    },
    {
      "cell_type": "code",
      "execution_count": null,
      "metadata": {
        "id": "VhWuo_JqIs1C",
        "outputId": "f6ada3d6-6d0d-4956-da59-9cb272c5fc7e"
      },
      "outputs": [
        {
          "name": "stdout",
          "output_type": "stream",
          "text": [
            "[('h', 11), ('g', 13), ('b', 15), ('a', 16), ('e', 18)]\n"
          ]
        }
      ],
      "source": [
        "list4 = sorted(list3, key=lambda item: item[1])\n",
        "print(list4)"
      ]
    }
  ],
  "metadata": {
    "kernelspec": {
      "display_name": "Python 3 (ipykernel)",
      "language": "python",
      "name": "python3"
    },
    "language_info": {
      "codemirror_mode": {
        "name": "ipython",
        "version": 3
      },
      "file_extension": ".py",
      "mimetype": "text/x-python",
      "name": "python",
      "nbconvert_exporter": "python",
      "pygments_lexer": "ipython3",
      "version": "3.9.12"
    },
    "colab": {
      "provenance": []
    }
  },
  "nbformat": 4,
  "nbformat_minor": 0
}